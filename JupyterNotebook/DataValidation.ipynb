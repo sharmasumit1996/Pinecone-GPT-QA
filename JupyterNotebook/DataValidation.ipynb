{
 "cells": [
  {
   "cell_type": "code",
   "execution_count": 1,
   "metadata": {},
   "outputs": [],
   "source": [
    "import csv,os,sys\n",
    "\n",
    "utils_path = os.path.abspath(os.path.join(os.getcwd(), '..'))\n",
    "sys.path.append(utils_path)\n",
    "from utils.URLclass import Article"
   ]
  },
  {
   "cell_type": "code",
   "execution_count": 5,
   "metadata": {},
   "outputs": [],
   "source": [
    "def instantiate_from_csv(csv_filepath: str) -> list[Article]:\n",
    "    Articles = []\n",
    "    with open(csv_filepath, newline='', encoding='utf-8') as csvfile:\n",
    "        reader = csv.DictReader(csvfile)\n",
    "        for row in reader:\n",
    "            print(row)\n",
    "            # Instantiate your Pydantic model and add it to the list\n",
    "            try:\n",
    "                article_instance = Article(**row)\n",
    "                print(\"article\",article_instance)\n",
    "                Articles.append(article_instance)\n",
    "            except Exception as e:\n",
    "                print('Validation Error:', e)\n",
    "    print(len(Articles))\n",
    "    return Articles"
   ]
  },
  {
   "cell_type": "code",
   "execution_count": 3,
   "metadata": {},
   "outputs": [],
   "source": [
    "import csv\n",
    "\n",
    "def write_models_to_csv(Articles: list[Article], csv_filepath: str):\n",
    "    \"\"\"Function to write model instances to a new CSV file\"\"\"\n",
    "    # Check if models list is not empty\n",
    "    if not Articles:\n",
    "        print(\"No models to write.\")\n",
    "        return\n",
    "\n",
    "    # Collect data from Pydantic models\n",
    "    data = [Article.model_dump() for Article in Articles]\n",
    "    \n",
    "    # Get the headers from the first model (assuming all models have the same fields)\n",
    "    headers = data[0].keys()\n",
    "\n",
    "    with open(csv_filepath, mode='w', newline='', encoding='utf-8') as csvfile:\n",
    "        writer = csv.DictWriter(csvfile, fieldnames=headers)\n",
    "        \n",
    "        # Write the header\n",
    "        writer.writeheader()\n",
    "        \n",
    "        # Write each model's data\n",
    "        for row in data:\n",
    "            writer.writerow(row)\n",
    "\n"
   ]
  },
  {
   "cell_type": "code",
   "execution_count": 6,
   "metadata": {},
   "outputs": [
    {
     "name": "stdout",
     "output_type": "stream",
     "text": [
      "0\n",
      "No models to write.\n"
     ]
    }
   ],
   "source": [
    "csv_file = \"../data/cfa_data.csv\"\n",
    "articles = instantiate_from_csv(csv_file)\n",
    "\n",
    "\n",
    "\n",
    "csv_file_path = '../data/Validation_data.csv'\n",
    "write_models_to_csv(articles, csv_file_path)"
   ]
  },
  {
   "cell_type": "code",
   "execution_count": null,
   "metadata": {},
   "outputs": [],
   "source": []
  }
 ],
 "metadata": {
  "kernelspec": {
   "display_name": "Python 3 (ipykernel)",
   "language": "python",
   "name": "python3"
  },
  "language_info": {
   "codemirror_mode": {
    "name": "ipython",
    "version": 3
   },
   "file_extension": ".py",
   "mimetype": "text/x-python",
   "name": "python",
   "nbconvert_exporter": "python",
   "pygments_lexer": "ipython3",
   "version": "3.11.0"
  }
 },
 "nbformat": 4,
 "nbformat_minor": 2
}
