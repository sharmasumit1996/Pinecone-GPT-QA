{
 "cells": [
  {
   "cell_type": "markdown",
   "metadata": {},
   "source": [
    "## Creating note base on LOS Summary and Introudctioin"
   ]
  },
  {
   "cell_type": "code",
   "execution_count": 1,
   "metadata": {},
   "outputs": [],
   "source": [
    "## Pre-Creating knowledge of LOS\n",
    "import snowflake.connector\n",
    "import pandas as pd\n",
    "from pathlib import Path\n",
    "from dotenv import load_dotenv\n",
    "import os\n",
    "load_dotenv(override=True)\n",
    "from openai import OpenAI\n"
   ]
  },
  {
   "cell_type": "code",
   "execution_count": 2,
   "metadata": {},
   "outputs": [],
   "source": [
    "\n",
    "# Snowflake config\n",
    "snowflake_user = os.getenv('SNOWFLAKE_USER')\n",
    "snowflake_password = os.getenv('SNOWFLAKE_PASSWORD')\n",
    "snowflake_account = os.getenv('SNOWFLAKE_ACCOUNT')\n",
    "database = os.getenv('SNOWFLAKE_DATABASE')\n",
    "schema = os.getenv('SNOWFLAKE_SCHEMA')\n",
    "warehouse = os.getenv('SNOWFLAKE_WAREHOUSE')\n",
    "\n",
    "def get_3_data():\n",
    "    \"\"\"get Introduction LOS Summary\"\"\"\n",
    "    df = {}\n",
    "    try:\n",
    "        conn = snowflake.connector.connect(       \n",
    "            user=snowflake_user,\n",
    "            password=snowflake_password,\n",
    "            account=snowflake_account,\n",
    "            warehouse=warehouse,\n",
    "            database=database,\n",
    "            schema=schema,\n",
    "        )\n",
    "        \n",
    "        # run the sql query to get data from snowflake\n",
    "        cursor = conn.cursor()\n",
    "        sql = f\"SELECT NAMEOFTOPIC, INTRODUCTION, LEARNINGOUTCOME, SUMMARY FROM CFA_COURSES ;\"\n",
    "\n",
    "        results = cursor.execute(sql)\n",
    "        if results is not None:\n",
    "            df = pd.DataFrame(results.fetchall())\n",
    "            df.columns = ['Topic','Introduction', 'Learning outcomes', 'Summary']\n",
    "        else:\n",
    "            print('Fail to get data. Try again')\n",
    "    except NameError as e:\n",
    "        print(f'Program fail: {e}')\n",
    "    finally:\n",
    "        cursor.close()\n",
    "        conn.close()\n",
    "\n",
    "    return df\n",
    "\n",
    "df = get_3_data()\n"
   ]
  },
  {
   "cell_type": "code",
   "execution_count": 3,
   "metadata": {},
   "outputs": [],
   "source": [
    "\n",
    "def creat_knowledge(topic, introduction, summary, los):\n",
    "\n",
    "    client = OpenAI()\n",
    "    response = client.chat.completions.create(\n",
    "    model=\"gpt-3.5-turbo-0125\",\n",
    "    messages=[\n",
    "        {\"role\": \"system\", \"content\": \"\"\"You are a helpful assistant to generate techincal note for CFA Refresher Readings articles. Based on the information provided in the prompt by user, create a technical note in Markdown format that summarizes only the key Learning outcomes\n",
    "under \"Summary of Key Learning Outcome\" heading. Be sure to include any tables or equations necessary. Do not provide any introduction or conclusion. The \"Summary of Learning outcomes\" should have bullets only format which will be used as Knowledge Base for QA prompts.\n",
    "Follow the md file structure below:\n",
    "## Summary of Key Learning Outcome\n",
    "- **bulet points for eachlearning outcomes:** \n",
    "    parapgh for summarizing this learning outcome.\n",
    "- **bulet points for eachlearning outcomes:** \n",
    "    parapgh for summarizing this learning outcome.\"\"\"},\n",
    "        {\"role\": \"user\", \"content\": f\"\"\"## Topic\\n{topic}\\n\\n## Introduction\\n{introduction}\\n\\n## Summary\\n{summary}\\n\\n## Learning Outcomes\\n{los}\\n\"\"\"}\n",
    "    ]\n",
    "    )\n",
    "    # print(response.choices[0].message.content)\n",
    "    return response"
   ]
  },
  {
   "cell_type": "code",
   "execution_count": 43,
   "metadata": {},
   "outputs": [],
   "source": [
    "\n",
    "# topic, intro, los, summary = df.loc[0]\n",
    "# response = creat_knowledge(topic, intro, summary, los)"
   ]
  },
  {
   "cell_type": "code",
   "execution_count": 4,
   "metadata": {},
   "outputs": [
    {
     "name": "stdout",
     "output_type": "stream",
     "text": [
      "[{'topic': 'Time Value of Money in Finance', 'los': 'interpret interest rates as required rates of return, discount rates, or opportunity costs;\\nexplain an interest rate as the sum of a real risk-free rate and premiums that compensate investors for bearing distinct types of risk;\\ncalculate and interpret the effective annual rate, given the stated annual interest rate and the frequency of compounding;\\nsolve time value of money problems for different frequencies of compounding;\\ncalculate and interpret the future value (FV) and present value (PV) of a single sum of money, an ordinary annuity, an annuity due, a perpetuity (PV only), and a series of unequal cash flows;\\ndemonstrate the use of a time line in modeling and solving time value of money problems.', 'note': '## Summary of Key Learning Outcome\\n- **Interpretation of Interest Rates:** \\n    Understanding interest rates as required rates of return, discount rates, or opportunity costs is essential for evaluating investments and financial decisions.\\n- **Calculation of Effective Annual Rate:** \\n    Being able to calculate and interpret the effective annual rate based on the stated annual interest rate and compounding frequency helps in comparing different investment options accurately.\\n- **Time Value of Money Calculations:** \\n    Mastering the calculation of future value (FV) and present value (PV) for single sums of money, annuities (ordinary and due), perpetuities, and series of uneven cash flows is crucial for financial analysis and decision-making.\\n- **Use of Time Line in Problem Solving:** \\n    Demonstrating the use of a time line to model and solve time value of money problems provides a visual representation that aids in understanding the timing and value of cash flows.'}, {'topic': 'Common Probability Distributions', 'los': 'define a probability distribution and distinguish between discrete and continuous\\n                     random variables and their probability functions;\\ndescribe the set of possible outcomes of a specified discrete random variable;\\ninterpret a cumulative distribution function;\\ncalculate and interpret probabilities for a random variable, given its cumulative\\n                     distribution function;\\ndefine a discrete uniform random variable, a Bernoulli random variable, and a binomial\\n                     random variable;\\ncalculate and interpret probabilities given the discrete uniform and the binomial\\n                     distribution functions;\\nconstruct a binomial tree to describe stock price movement;\\ndefine the continuous uniform distribution and calculate and interpret probabilities,\\n                     given a continuous uniform distribution;\\nexplain the key properties of the normal distribution;\\ndistinguish between a univariate and a multivariate distribution and explain the role\\n                     of correlation in the multivariate normal distribution;\\ndetermine the probability that a normally distributed random variable lies inside\\n                     a given interval;\\ndefine the standard normal distribution, explain how to standardize a random variable,\\n                     and calculate and interpret probabilities using the standard normal distribution;\\ndefine shortfall risk, calculate the safety-first ratio, and select an optimal portfolio\\n                     using Roy’s safety-first criterion;\\nexplain the relationship between normal and lognormal distributions and why the lognormal\\n                     distribution is used to model asset prices;\\ndistinguish between discretely and continuously compounded rates of return and calculate\\n                     and interpret a continuously compounded rate of return, given a specific holding period\\n                     return;\\ndescribe Monte Carlo simulation.', 'note': '## Summary of Key Learning Outcome\\n- **Define** a probability distribution and distinguish between discrete and continuous random variables and their probability functions:\\n    The learning outcome covers the definition of a probability distribution and the ability to differentiate between the two main types of random variables, discrete and continuous, along with their respective probability functions.\\n- **Interpret** a cumulative distribution function:\\n    This learning outcome involves understanding the interpretation of a cumulative distribution function in relation to a random variable.\\n- **Calculate and interpret probabilities** for a random variable, given its cumulative distribution function:\\n    In this outcome, the focus is on being able to calculate and interpret probabilities for a random variable based on its cumulative distribution function.\\n- **Construct a binomial tree** to describe stock price movement:\\n    The learning outcome involves constructing a binomial tree to model stock price movement in financial analysis.\\n- **Determine the probability** that a normally distributed random variable lies inside a given interval:\\n    This learning outcome focuses on calculating the probability of a normally distributed random variable falling within a specified interval.\\n- **Explain the relationship** between normal and lognormal distributions and why the lognormal distribution is used to model asset prices:\\n    Understanding the connection between normal and lognormal distributions, along with the rationale for using the lognormal distribution in asset pricing, is covered in this outcome.\\n- **Describe Monte Carlo simulation**:\\n    The learning outcome entails explaining the concept of Monte Carlo simulation and its application in representing complex financial systems using random samples.'}, {'topic': 'Basics of Multiple Regression and Underlying Assumptions', 'los': 'describe the types of investment problems addressed by multiple linear regression and the regression process;\\nformulate a multiple linear regression model, describe the relation between the dependent variable and several independent variables, and interpret estimated regression coefficients; and\\nexplain the assumptions underlying a multiple linear regression model and interpret residual plots indicating potential violations of these assumptions.', 'note': '## Summary of Key Learning Outcome\\n- Multiple linear regression is used to model the linear relationship between one dependent variable and two or more independent variables. It is commonly used in finance to explain relationships between financial variables, test theories, or make forecasts.\\n- Analysts must make several decisions in the regression process, such as identifying the dependent and independent variables, selecting the appropriate regression model, testing assumptions, examining goodness of fit, and making necessary adjustments.\\n- The multiple regression model is represented by an equation with coefficient b0 as the intercept and parameters b1 to bk as the slope coefficients for independent variables X1 to Xk. These coefficients describe the impact of each independent variable on the dependent variable.\\n- Five main assumptions underlying multiple regression models must be satisfied: linearity, homoskedasticity, independence of errors, normality, and independence of independent variables.\\n- Diagnostic plots, such as scatterplots and residual plots, can help detect violations of these assumptions and guide adjustments in the regression model.'}, {'topic': 'Probability Concepts', 'los': 'define a random variable, an outcome, and an event;\\nidentify the two defining properties of probability, including mutually exclusive and exhaustive events, and compare and contrast empirical, subjective, and a priori probabilities;\\ndescribe the probability of an event in terms of odds for and against the event;\\ncalculate and interpret conditional probabilities;\\ndemonstrate the application of the multiplication and addition rules for probability;\\ncompare and contrast dependent and independent events;\\ncalculate and interpret an unconditional probability using the total probability rule;\\ncalculate and interpret the expected value, variance, and standard deviation of random variables;\\nexplain the use of conditional expectation in investment applications;\\ninterpret a probability tree and demonstrate its application to investment problems;\\ncalculate and interpret the expected value, variance, standard deviation, covariances, and correlations of portfolio returns;\\ncalculate and interpret the covariances of portfolio returns using the joint probability function;\\ncalculate and interpret an updated probability using Bayes’ formula;\\nidentify the most appropriate method to solve a particular counting problem and analyze counting problems using factorial, combination, and permutation concepts.', 'note': \"## Summary of Key Learning Outcome\\n- **Define a random variable, an outcome, and an event:**\\n    A random variable is a quantity with uncertain outcomes. An event is a set of outcomes of a random variable.\\n- **Identify the two defining properties of probability and types of probabilities:**\\n    The two defining properties of probability are between 0 and 1, and the sum of probabilities of mutually exclusive and exhaustive events equals 1. Types of probabilities include empirical, subjective, and a priori.\\n- **Describe the probability of an event using odds:**\\n    The probability of an event can be stated as odds for the event or odds against the event.\\n- **Calculate and interpret conditional probabilities:**\\n    Conditional probability is the probability of an event given another event and is calculated as the probability of the intersection of two events divided by the probability of the conditioning event.\\n- **Demonstrate the application of multiplication and addition rules for probability:**\\n    The multiplication rule calculates the joint probability of two events, while the addition rule calculates the probability of either event occurring.\\n- **Compare and contrast dependent and independent events:**\\n    Independent events occur without affecting the probability of each other, while dependent events are influenced by each other.\\n- **Calculate and interpret expected value, variance, and standard deviation of random variables:**\\n    Expected value is a probability-weighted average, variance measures dispersion, and standard deviation is the square root of variance.\\n- **Explain the use of conditional expectation and interpret probability trees:**\\n    Conditional expectation is used in investment applications, and probability trees help in solving investment problems.\\n- **Calculate and interpret expected value, variance, standard deviation, covariances, and correlations of portfolio returns:**\\n    Portfolio returns' properties like expected value, variance, standard deviation, covariances, and correlations are calculated and interpreted for investment analysis.\\n- **Calculate portfolio covariances using the joint probability function and update probabilities using Bayes’ formula:**\\n    Covariances of portfolio returns are calculated, and probabilities are updated using Bayes' formula based on new information.\\n- **Identify the appropriate method to solve counting problems using factorial, combination, and permutation concepts:**\\n    Factorial, combination, and permutation concepts are utilized to solve various counting problems efficiently.\"}]\n"
     ]
    }
   ],
   "source": [
    "response_list = []\n",
    "for i in range(4):\n",
    "    topic, intro, los, summary = df.loc[i]\n",
    "    resp = creat_knowledge(topic, intro, summary, los)\n",
    "    response_list.append(\n",
    "        {\n",
    "            'topic': topic,\n",
    "            'los': los,\n",
    "            'note':resp.choices[0].message.content\n",
    "        })\n",
    "print(response_list)\n"
   ]
  },
  {
   "cell_type": "code",
   "execution_count": 7,
   "metadata": {},
   "outputs": [
    {
     "name": "stdout",
     "output_type": "stream",
     "text": [
      "define a random variable, an outcome, and an event;\n",
      "identify the two defining properties of probability, including mutually exclusive and exhaustive events, and compare and contrast empirical, subjective, and a priori probabilities;\n",
      "describe the probability of an event in terms of odds for and against the event;\n",
      "calculate and interpret conditional probabilities;\n",
      "demonstrate the application of the multiplication and addition rules for probability;\n",
      "compare and contrast dependent and independent events;\n",
      "calculate and interpret an unconditional probability using the total probability rule;\n",
      "calculate and interpret the expected value, variance, and standard deviation of random variables;\n",
      "explain the use of conditional expectation in investment applications;\n",
      "interpret a probability tree and demonstrate its application to investment problems;\n",
      "calculate and interpret the expected value, variance, standard deviation, covariances, and correlations of portfolio returns;\n",
      "calculate and interpret the covariances of portfolio returns using the joint probability function;\n",
      "calculate and interpret an updated probability using Bayes’ formula;\n",
      "identify the most appropriate method to solve a particular counting problem and analyze counting problems using factorial, combination, and permutation concepts.\n"
     ]
    }
   ],
   "source": [
    "print(response_list[3]['los'])"
   ]
  },
  {
   "cell_type": "code",
   "execution_count": 8,
   "metadata": {},
   "outputs": [],
   "source": [
    "# gater the output and put into md\n",
    "\n",
    "md_lines = ''\n",
    "for i in range(4):\n",
    "    md_lines += response_list[i]['note']\n",
    "    md_lines += '\\n''\\n'\n",
    "# print(md_lines)\n",
    "with open(\"../data/LOS_summary.md\", \"w\", encoding=\"utf-8\") as file:\n",
    "    file.writelines(md_lines)\n"
   ]
  },
  {
   "cell_type": "markdown",
   "metadata": {},
   "source": [
    "## Splitter the note base on token length"
   ]
  },
  {
   "cell_type": "markdown",
   "metadata": {},
   "source": [
    "**Spilt LOS with ';'**\n",
    "\n",
    "**Split Technical Note with token**"
   ]
  },
  {
   "cell_type": "code",
   "execution_count": 9,
   "metadata": {},
   "outputs": [
    {
     "name": "stderr",
     "output_type": "stream",
     "text": [
      "/Users/ldy/Documents/courses/DAMG7245/HW/Assignment5/Assignment05/.venv/lib/python3.11/site-packages/tqdm/auto.py:21: TqdmWarning: IProgress not found. Please update jupyter and ipywidgets. See https://ipywidgets.readthedocs.io/en/stable/user_install.html\n",
      "  from .autonotebook import tqdm as notebook_tqdm\n"
     ]
    }
   ],
   "source": [
    "from langchain.text_splitter import RecursiveCharacterTextSplitter\n",
    "import tiktoken\n",
    "from uuid import uuid4\n",
    "from tqdm.auto import tqdm"
   ]
  },
  {
   "cell_type": "code",
   "execution_count": 10,
   "metadata": {},
   "outputs": [
    {
     "data": {
      "text/plain": [
       "<Encoding 'cl100k_base'>"
      ]
     },
     "execution_count": 10,
     "metadata": {},
     "output_type": "execute_result"
    }
   ],
   "source": [
    "tiktoken.encoding_for_model('gpt-3.5-turbo')"
   ]
  },
  {
   "cell_type": "code",
   "execution_count": 11,
   "metadata": {},
   "outputs": [],
   "source": [
    "# tokenize a str\n",
    "\n",
    "tokenizer = tiktoken.get_encoding('cl100k_base')\n",
    "\n",
    "# create the length function\n",
    "def tiktoken_len(text):\n",
    "    tokens = tokenizer.encode(\n",
    "        text,\n",
    "        disallowed_special=()\n",
    "    )\n",
    "    return len(tokens)\n",
    "\n",
    "# def split_text_by_semicolon(data):# -> list[Any]:\n",
    "#     list_chunks = []\n",
    "#     # split LOS by ;\n",
    "#     for i,text in enumerate(data):\n",
    "#         chunks = [chunk.strip() for chunk in text['los'].split(';') if chunk.strip()]\n",
    "#         list_chunks.append(chunks)\n",
    "#     return list_chunks\n"
   ]
  },
  {
   "cell_type": "code",
   "execution_count": 12,
   "metadata": {},
   "outputs": [],
   "source": [
    "\n",
    "text_splitter = RecursiveCharacterTextSplitter(\n",
    "    chunk_size=300,\n",
    "    chunk_overlap=50,\n",
    "    length_function=tiktoken_len,\n",
    "    separators=[\"\\n\\n\", \"\\n\", \" \", \"\"]\n",
    ")"
   ]
  },
  {
   "cell_type": "code",
   "execution_count": 13,
   "metadata": {},
   "outputs": [
    {
     "name": "stdout",
     "output_type": "stream",
     "text": [
      "## Summary of Key Learning Outcome\n",
      "- **Interpretation of Interest Rates:** \n",
      "    Understanding interest rates as required rates of return, discount rates, or opportunity costs is essential for evaluating investments and financial decisions.\n",
      "- **Calculation of Effective Annual Rate:** \n",
      "    Being able to calculate and interpret the effective annual rate based on the stated annual interest rate and compounding frequency helps in comparing different investment options accurately.\n",
      "- **Time Value of Money Calculations:**\n"
     ]
    }
   ],
   "source": [
    "note_chunks = text_splitter.split_text(md_lines)\n",
    "print(note_chunks[0])\n",
    "\n",
    "# los_chunks = split_text_by_semicolon(response_list)"
   ]
  },
  {
   "cell_type": "markdown",
   "metadata": {},
   "source": [
    "## Creating Embedding"
   ]
  },
  {
   "cell_type": "code",
   "execution_count": 14,
   "metadata": {},
   "outputs": [],
   "source": [
    "import os\n",
    "\n",
    "# get openai api key from platform.openai.com\n",
    "OPENAI_API_KEY = os.getenv('OPENAI_API_KEY') or 'YOUR_API_KEY'"
   ]
  },
  {
   "cell_type": "code",
   "execution_count": 15,
   "metadata": {},
   "outputs": [],
   "source": [
    "from langchain_openai import OpenAIEmbeddings\n",
    "\n",
    "model_name = 'text-embedding-ada-002'\n",
    "\n",
    "embed = OpenAIEmbeddings(\n",
    "    model=model_name,\n",
    "    openai_api_key=OPENAI_API_KEY  # type: ignore\n",
    ")"
   ]
  },
  {
   "cell_type": "code",
   "execution_count": 16,
   "metadata": {},
   "outputs": [
    {
     "data": {
      "text/plain": [
       "16"
      ]
     },
     "execution_count": 16,
     "metadata": {},
     "output_type": "execute_result"
    }
   ],
   "source": [
    "\n",
    "note_res = embed.embed_documents(note_chunks)\n",
    "# los_res = embed.embed_documents(los_chunks)\n",
    "len(note_res) # directly convert into a vector"
   ]
  },
  {
   "cell_type": "markdown",
   "metadata": {},
   "source": [
    "## Upload to Pinecone"
   ]
  },
  {
   "cell_type": "code",
   "execution_count": 8,
   "metadata": {},
   "outputs": [
    {
     "name": "stderr",
     "output_type": "stream",
     "text": [
      "/Users/ldy/Documents/courses/DAMG7245/HW/Assignment5/Assignment05/.venv/lib/python3.11/site-packages/pinecone/data/index.py:1: TqdmWarning: IProgress not found. Please update jupyter and ipywidgets. See https://ipywidgets.readthedocs.io/en/stable/user_install.html\n",
      "  from tqdm.autonotebook import tqdm\n"
     ]
    }
   ],
   "source": [
    "from pinecone import Pinecone\n",
    "from dotenv import load_dotenv\n",
    "load_dotenv()\n",
    "import os\n",
    "\n",
    "# initialize connection to pinecone (get API key at app.pinecone.io)\n",
    "api_key = os.getenv(\"PINECONE_API_KEY\")\n",
    "\n",
    "# configure client\n",
    "pc = Pinecone(api_key=api_key)"
   ]
  },
  {
   "cell_type": "code",
   "execution_count": 9,
   "metadata": {},
   "outputs": [],
   "source": [
    "from pinecone import ServerlessSpec\n",
    "\n",
    "spec = ServerlessSpec(\n",
    "    cloud=\"aws\", region=\"us-east-1\" \n",
    ")"
   ]
  },
  {
   "cell_type": "code",
   "execution_count": 10,
   "metadata": {},
   "outputs": [
    {
     "data": {
      "text/plain": [
       "{'dimension': 1536,\n",
       " 'index_fullness': 0.0,\n",
       " 'namespaces': {'': {'vector_count': 25}, 'TechNote': {'vector_count': 44}},\n",
       " 'total_vector_count': 69}"
      ]
     },
     "execution_count": 10,
     "metadata": {},
     "output_type": "execute_result"
    }
   ],
   "source": [
    "import time\n",
    "\n",
    "index_name = 'damg-group3-assignment5-step1'\n",
    "existing_indexes = [\n",
    "    index_info[\"name\"] for index_info in pc.list_indexes()\n",
    "]\n",
    "\n",
    "# check if index already exists (it shouldn't if this is first time)\n",
    "if index_name not in existing_indexes:\n",
    "    # if does not exist, create index\n",
    "    pc.create_index(\n",
    "        index_name,\n",
    "        dimension=1536,  # dimensionality of ada 002\n",
    "        metric='dotproduct',\n",
    "        spec=spec\n",
    "    )\n",
    "    # wait for index to be initialized\n",
    "    while not pc.describe_index(index_name).status['ready']:\n",
    "        time.sleep(1)\n",
    "\n",
    "# connect to index\n",
    "index = pc.Index(index_name)\n",
    "time.sleep(1)\n",
    "# view index stats\n",
    "index.describe_index_stats()"
   ]
  },
  {
   "cell_type": "markdown",
   "metadata": {},
   "source": [
    "### Upload to Pinecone"
   ]
  },
  {
   "cell_type": "code",
   "execution_count": 34,
   "metadata": {},
   "outputs": [
    {
     "name": "stderr",
     "output_type": "stream",
     "text": [
      "100%|██████████| 4/4 [00:00<00:00, 387.15it/s]\n"
     ]
    }
   ],
   "source": [
    "from typing import List\n",
    "from tqdm.auto import tqdm\n",
    "from uuid import uuid4\n",
    "\n",
    "batch_limit = 100\n",
    "\n",
    "texts = []\n",
    "metadatas = []\n",
    "\n",
    "for i, record in enumerate(tqdm(response_list)):\n",
    "    # first get metadata fields for this record\n",
    "    metadata = {\n",
    "        'topic': record['topic'],\n",
    "        'LOS': record['los'],\n",
    "        'Note': record['note']\n",
    "    }\n",
    "    # now we create chunks from the record text\n",
    "        #create record with LOS\n",
    "    record['note'] = record['los'] + record['note']\n",
    "    record_texts = text_splitter.split_text(record['note'])\n",
    "    # create individual metadata dicts for each chunk\n",
    "    record_metadatas = [{\n",
    "        \"chunk\": j, \"text\": text, **metadata\n",
    "    } for j, text in enumerate(record_texts)]\n",
    "    # append these to current batches\n",
    "    texts.extend(record_texts)\n",
    "    metadatas.extend(record_metadatas)\n",
    "    # if we have reached the batch_limit we can add texts\n",
    "    if len(texts) >= batch_limit:\n",
    "        ids = [str(uuid4()) for _ in range(len(texts))]\n",
    "        embeds = embed.embed_documents(texts)\n",
    "        index.upsert(vectors=zip(ids, embeds, metadatas)) # type: ignore\n",
    "        texts = []\n",
    "        metadatas = []\n",
    "\n",
    "\n",
    "if len(texts) > 0:\n",
    "    ids = [str(uuid4()) for _ in range(len(texts))]\n",
    "    embeds = embed.embed_documents(texts)\n",
    "    index.upsert(vectors=zip(ids, embeds, metadatas),namespace='TechNote') # type: ignore"
   ]
  },
  {
   "cell_type": "code",
   "execution_count": 35,
   "metadata": {},
   "outputs": [
    {
     "data": {
      "text/plain": [
       "{'dimension': 1536,\n",
       " 'index_fullness': 0.0,\n",
       " 'namespaces': {'': {'vector_count': 25}, 'TechNote': {'vector_count': 44}},\n",
       " 'total_vector_count': 69}"
      ]
     },
     "execution_count": 35,
     "metadata": {},
     "output_type": "execute_result"
    }
   ],
   "source": [
    "index.describe_index_stats()"
   ]
  },
  {
   "cell_type": "markdown",
   "metadata": {},
   "source": [
    "## Query the Data"
   ]
  },
  {
   "cell_type": "code",
   "execution_count": 3,
   "metadata": {},
   "outputs": [],
   "source": [
    "\n",
    "from langchain_openai import OpenAIEmbeddings\n",
    "import openai\n",
    "\n",
    "model_name = 'text-embedding-ada-002'\n",
    "query = \"Give me a learning outcome about Time Value of Money in Finance\"\n",
    "\n",
    "\n",
    "embedres = openai.embeddings.create(\n",
    "    model=model_name,\n",
    "    input=query\n",
    ")\n"
   ]
  },
  {
   "cell_type": "code",
   "execution_count": 11,
   "metadata": {},
   "outputs": [
    {
     "name": "stdout",
     "output_type": "stream",
     "text": [
      "<class 'openai.types.create_embedding_response.CreateEmbeddingResponse'>\n",
      "CreateEmbeddingResponse(data=[Embedding(embedding=[-0.014256772585213184, -0.011405417695641518, 0.02540297619998455, -0.025571465492248535, -0.03989304229617119, -0.0038136865478008986, -0.014282694086432457, -0.0023912496399134398, -0.038182228803634644, -0.02452164888381958, 0.011301732622087002, 0.022292407229542732, -0.0053009274415671825, 0.0032061536330729723, 0.017846887931227684, 0.009577958844602108, 0.021138904616236687, -0.008249486796557903, 0.001997568178921938, -0.025143763050436974, -0.01778208278119564, -0.010005662217736244, -0.027113789692521095, -0.007296875584870577, 0.0062567791901528835, 0.00643498869612813, 0.008962325751781464, -0.006285940762609243, 0.01226082444190979, 0.009584438987076283, 0.024055063724517822, -0.006412307266145945, -0.017393263056874275, -0.023394066840410233, -0.0032984986901283264, -0.003528551198542118, 0.012228422798216343, 0.006817329209297895, 0.03292018547654152, -0.018715254962444305, 0.0007590111345052719, 0.013401365838944912, 5.0855567678809166e-05, -0.013044946826994419, -0.029576322063803673, 0.010174151510000229, 0.005407853052020073, -0.03566785156726837, -0.029913300648331642, -0.010128788650035858, 0.004494123626500368, 0.029991066083312035, -0.02682865411043167, -0.02032238058745861, -0.007873626425862312, 0.001829079119488597, 0.013893872499465942, 0.011891444213688374, -0.013725384138524532, -0.021605491638183594, 0.002684485400095582, -0.013038466684520245, -0.019039271399378777, 0.019078154116868973, -0.00873551331460476, 0.006519233342260122, -0.009953819215297699, 0.01088050939142704, -0.01666746288537979, 0.019518816843628883, 0.009124334901571274, 0.014567829668521881, -0.0005909270257689059, 0.01005750522017479, 0.01160630863159895, 0.0005718909669667482, -0.026647204533219337, -0.008826238103210926, 0.004461721982806921, 0.0077116177417337894, 0.01591574214398861, -0.007523687556385994, -0.0068756528198719025, -0.006072089076042175, 0.015112179331481457, -0.0033730228897184134, 0.005903599783778191, 0.02474198117852211, -0.02297932468354702, -0.008962325751781464, 0.0342680960893631, 0.008819757960736752, -0.00411502318456769, 0.01647305302321911, 0.004882944747805595, 0.013893872499465942, -0.014503026381134987, -0.000898338679689914, 0.01253947988152504, -0.021929508075118065, -0.00453300541266799, 0.004160385578870773, -0.011398937553167343, -0.006159573793411255, -0.02177397906780243, -0.005019031930714846, 0.026310225948691368, -0.006674761883914471, 0.00872255302965641, -0.02008908800780773, -0.04155201092362404, 0.043366510421037674, 0.009091932326555252, -0.02828025259077549, 0.0036549181677401066, -0.012448754161596298, -0.0008011333993636072, -0.0042867520824074745, 0.009046570397913456, -0.0012288365978747606, 0.03289426118135452, 0.012954222038388252, 0.04559575021266937, 0.0031591712031513453, -0.013790187425911427, -0.015099218115210533, 0.00022620476374868304, -0.013057908043265343, -0.015086257830262184, -0.009986220858991146, 0.015643566846847534, 0.011820160783827305, 0.003223974723368883, 0.003117048880085349, -0.02993922308087349, 0.005203722044825554, -0.01690075546503067, 0.02218872308731079, -0.03698984533548355, -0.014749279245734215, 0.012844055891036987, 0.027347082272171974, -0.007620892953127623, 0.002797891618683934, -0.00894936453551054, 0.006036446895450354, 0.023368146270513535, 0.022616425529122353, -0.007769940886646509, -0.029913300648331642, 0.013044946826994419, -0.004931547213345766, 0.01082218624651432, 0.018391236662864685, -0.006140132900327444, 0.003664638614282012, 0.006901573855429888, 0.020827848464250565, 0.008392054587602615, -0.0006306191789917648, 0.021838784217834473, -0.009234500117599964, 0.03048357181251049, 0.027761824429035187, 0.0015714851906523108, 0.014930728822946548, 0.011917365714907646, 0.0021790179889649153, 0.009564998559653759, 0.00444552069529891, -0.017730241641402245, 0.027476688846945763, -0.0419926755130291, 0.025662191212177277, 0.008858639746904373, 0.03354229778051376, 0.03504573926329613, -0.0082883695140481, -0.00026650444488041103, -0.016317524015903473, 0.011865522712469101, 0.0096622034907341, 0.00994085893034935, -0.006817329209297895, 0.004633450880646706, -0.013323602266609669, 0.014217890799045563, -0.006771966814994812, 0.02783958800137043, -0.00872255302965641, 0.019246643409132957, 0.01745806634426117, 0.00866422988474369, 0.0041636256501078606, -0.655707836151123, -0.0011672732653096318, -0.017509909346699715, 0.010193591937422752, 0.008904002606868744, 0.004079381003975868, -0.012584841810166836, 0.00646415026858449, -0.0043580359779298306, 0.024793824180960655, 0.006227617617696524, 0.0149177685379982, -0.027554452419281006, -0.025791797786951065, 0.0375601164996624, -0.018248669803142548, 0.0023005246184766293, -0.02973185107111931, -0.023990260437130928, 0.02165733277797699, -0.02695826068520546, 0.045673515647649765, 0.015047375112771988, 0.017043324187397957, 0.019583621993660927, 0.00657107587903738, -0.0035447520203888416, -0.023510713130235672, 0.0024900748394429684, 0.0037391625810414553, 0.010141749866306782, 0.003586874343454838, 0.018507882952690125, 0.02008908800780773, 0.04365164414048195, -0.010692579671740532, -0.013543933629989624, -0.008754954673349857, -0.006648840382695198, 0.038933951407670975, -0.009163216687738895, 0.004633450880646706, -0.022499779239296913, -0.013427287340164185, -0.011126763187348843, 0.0019019830506294966, 0.022590504959225655, 0.007270954083651304, 0.007510726805776358, 0.016304563730955124, 0.014127166010439396, -0.0037521233316510916, -0.029213422909379005, -0.0074070412665605545, 0.008644788525998592, -0.006418787874281406, 0.018637489527463913, 8.875043567968532e-05, 0.0009850133210420609, 0.009409469552338123, -0.012092335149645805, -0.028202489018440247, -0.012895898893475533, 0.0006605907692573965, -0.0320129357278347, 0.007614412810653448, 0.01989467814564705, 0.03559008985757828, 0.015332510694861412, -0.03569377586245537, -0.0030506253242492676, 0.005650866311043501, -0.014347497373819351, -0.010316719301044941, 0.026802731677889824, 0.002643983345478773, 0.03514942526817322, -0.025765875354409218, -0.020387183874845505, 0.02242201566696167, 0.01358281634747982, -0.02518264390528202, -0.005929521284997463, -0.011722954921424389, 0.02882460132241249, -0.0017658957513049245, 0.005168079864233732, -0.00236208806745708, 0.003379503032192588, 0.012267304584383965, 0.0248715877532959, 0.0012434173841029406, 0.020296460017561913, -0.022512739524245262, -0.008379094302654266, 0.04207044094800949, 0.024119867011904716, -0.003936813212931156, -0.0012806793674826622, -0.011450780555605888, -0.009513155557215214, 0.0024430924095213413, -0.007381119765341282, -0.0049769096076488495, 0.0032498962245881557, -0.01336248405277729, 0.01703036203980446, -0.0007748070056550205, 0.059930287301540375, -0.025571465492248535, -0.027476688846945763, -0.034967973828315735, 0.012021051719784737, -0.0011397317284718156, -0.00018580381583888084, -0.04411822929978371, 0.03854512795805931, -0.009856614284217358, 0.002465773606672883, 0.010854587890207767, 0.010796264745295048, 0.024793824180960655, 0.03704168647527695, 0.008929924108088017, -0.002219520276412368, -0.00541109312325716, -0.0026067213620990515, -0.003125149291008711, -0.001266908599063754, -0.006353984121233225, 0.011865522712469101, -0.00988253578543663, 0.002400970086455345, -0.023666242137551308, 0.01115916483104229, -0.016486013308167458, 0.010232474654912949, -0.014062361791729927, -0.008320771157741547, -0.026880497112870216, 0.0045783682726323605, -0.01735438033938408, 0.01776912249624729, -0.0386488139629364, -0.019389210268855095, -0.027995117008686066, 0.020957455039024353, 0.011573906987905502, 0.0024285116232931614, 0.006098010577261448, -0.01613607443869114, -0.003872009925544262, -0.048758164048194885, -0.01231914758682251, 0.01143782027065754, -0.025273369625210762, 0.0074070412665605545, -0.022888600826263428, -0.018974468111991882, -0.015215864405035973, -0.018585646525025368, -0.0077829016372561455, -0.00294207944534719, 0.009500195272266865, 0.009176176972687244, 0.00866422988474369, -0.00905305054038763, 0.00783474463969469, -0.02509192004799843, -0.004759817849844694, -0.0019457254093140364, -0.02075008489191532, -0.011859042569994926, 0.00692749535664916, -0.002849734388291836, 0.027865510433912277, -0.005135678220540285, 0.0001891452557174489, -0.014827043749392033, -0.017367340624332428, 0.00982421264052391, 0.007199670188128948, -0.0035771538969129324, 0.014541908167302608, 0.026530558243393898, 0.012351549230515957, 0.00759497145190835, 0.03356821835041046, -0.0034475468564778566, 0.003139730077236891, 0.012960702180862427, 0.025273369625210762, -0.02509192004799843, -0.017289577051997185, -0.002290804171934724, 0.029031973332166672, -0.013375445269048214, -0.02242201566696167, 0.007808823138475418, 0.028565388172864914, 0.030224358662962914, 0.0054856170900166035, 0.02973185107111931, 0.01900039054453373, -0.010640736669301987, 0.0009671924053691328, 0.015578764490783215, -0.015539881773293018, 0.020801927894353867, 0.010640736669301987, 0.0032806778326630592, -0.011198046617209911, -0.004413119051605463, -0.012941260822117329, 0.007193189579993486, -0.004361276514828205, -0.01778208278119564, -0.018196826800704002, 0.003288778243586421, -0.0009372208151035011, -0.001950585749000311, -0.011969208717346191, 0.021035220474004745, -0.018313473090529442, -0.009428910911083221, 0.00899472739547491, 0.0030797868967056274, 0.021242590621113777, -0.002433371962979436, -0.022253526374697685, -0.019194800406694412, -0.003988656215369701, 0.03766380250453949, 0.00045888987369835377, 0.027891431003808975, 0.024910470470786095, 0.017172930762171745, 0.004196027293801308, 0.030068829655647278, 0.006260019261389971, 0.0005374641041271389, 0.010478727519512177, 0.01744510605931282, -0.012921820394694805, 0.00999918207526207, 0.009973260574042797, 0.006444709375500679, 0.03447546809911728, -0.022914521396160126, -0.0016095571918413043, -0.0060656084679067135, -0.003528551198542118, -0.0006298091029748321, -0.006519233342260122, -0.001799917547032237, -0.042355574667453766, -0.0025257167872041464, 0.009176176972687244, 0.011133243329823017, 0.021838784217834473, 0.016486013308167458, 0.024677177891135216, 0.002133655594661832, -0.009402989409863949, -0.004818140994757414, 0.020685281604528427, -0.010796264745295048, -0.008612386882305145, -0.00834669265896082, -0.010167671367526054, -0.006972857750952244, -0.005919800605624914, 0.0013908453984186053, -0.0029971625190228224, 0.02221464365720749, 0.0033438613172620535, 0.009992701932787895, -0.007426482625305653, 0.002033210126683116, -0.00422194879502058, -0.029887380078434944, -0.012837575748562813, 0.02472902089357376, 0.008592945523560047, -0.0018874022644013166, -0.011865522712469101, 0.005890639033168554, -0.01237747073173523, -0.017095167189836502, 0.020257577300071716, 0.00834021158516407, -0.026750890538096428, -0.0015479938592761755, -0.01735438033938408, -0.01093883253633976, -0.002655323827639222, 0.0254159364849329, -0.005242604296654463, -0.01833939366042614, -0.017289577051997185, 0.0020056685898452997, -0.006933975964784622, -0.002093153540045023, -0.020244617015123367, 0.017626555636525154, 0.016408249735832214, -0.010180631652474403, -0.011619269847869873, -0.0009315504576079547, 0.0021093543618917465, 0.010776824317872524, -0.0419926755130291, -0.005893879570066929, 0.007685696706175804, 0.015850938856601715, -0.005100036505609751, -0.004481162875890732, -0.009098413400352001, -0.0011729435063898563, 0.0024349919985979795, 0.017069244757294655, 0.016408249735832214, -0.022992286831140518, -0.0001190764523926191, 0.09077675640583038, 0.009117853827774525, -0.016071271151304245, 0.005660586524754763, -0.03004290722310543, -0.010874029248952866, -0.011748876422643661, -0.04054107517004013, 0.025817718356847763, 0.00032624517916701734, 0.029420794919133186, -0.017600633203983307, -0.004623730666935444, 0.0018744416302070022, 0.00034690130269154906, -0.016641542315483093, -0.01309030968695879, 0.0012863497249782085, 0.03180556371808052, 0.007530168164521456, 0.004063180182129145, 9.280065569328144e-05, 0.015967585146427155, 0.013505051843822002, -0.02905789390206337, 0.01679706946015358, 0.047773148864507675, 0.037611957639455795, -9.568643872626126e-05, -0.020270537585020065, 0.004247870296239853, -0.003833127673715353, 0.003761843778192997, 0.018313473090529442, -0.0007488855626434088, 0.021514765918254852, -0.00367111898958683, 0.016045348718762398, 0.011392457410693169, -0.015863899141550064, -0.021074101328849792, 0.02443092316389084, 0.007270954083651304, -0.006538674235343933, 0.012954222038388252, -0.016926677897572517, 0.007322796620428562, 0.023808810859918594, -0.00023187506303656846, 0.0015269326977431774, 0.013375445269048214, -0.002998782554641366, -0.03271281346678734, -0.0018371795304119587, 0.01578613556921482, 0.0020915332715958357, -0.01901335082948208, -0.0035382716450840235, -0.0026893457397818565, -0.019142957404255867, -0.036289967596530914, -0.031131606549024582, 0.0165637768805027, -0.00844389759004116, 0.014528946951031685, -0.01281165424734354, -0.005372211337089539, -0.0032191143836826086, -0.011697033420205116, -0.011450780555605888, 0.00615309365093708, 0.0009647622937336564, -0.04121503233909607, 0.008417976088821888, 0.02916157990694046, 0.0038493284955620766, -0.0003234100295230746, 0.007523687556385994, -0.007329277228564024, 0.009519635699689388, -0.0021417560055851936, -0.019091114401817322, -0.006179014686495066, -0.0028821362648159266, -0.022888600826263428, 0.01011582836508751, -0.006214656867086887, -0.0003624946402851492, 0.00466585299000144, 0.008826238103210926, -0.014230851083993912, 0.0021887386683374643, 0.020413106307387352, -0.033309005200862885, 0.006143372971564531, -0.008826238103210926, 0.001055487198755145, 0.0017383542144671082, 0.01710812747478485, -0.008074517361819744, 0.019142957404255867, -0.008910482749342918, 0.005287966690957546, -0.017043324187397957, -0.004413119051605463, 0.01591574214398861, 0.0002648843510542065, 0.0226293858140707, 0.00684973131865263, 0.004630210809409618, 0.005851757247000933, -0.01259780302643776, 0.01710812747478485, 0.007977312430739403, 0.015825018286705017, 0.021670294925570488, 0.011139723472297192, 0.02682865411043167, 0.003690559882670641, -0.006007285322993994, 0.006587277166545391, -0.02275899238884449, 0.01015471015125513, 0.010031583718955517, -0.010102867148816586, 0.008865120820701122, 0.008592945523560047, -0.010899950750172138, 0.013323602266609669, 0.00679140817373991, -0.004037258680909872, -0.005929521284997463, -0.013232877478003502, -0.02196839079260826, -0.010089906863868237, -0.019583621993660927, -0.033749669790267944, 0.0017091926420107484, -0.02065935917198658, -0.0016541096847504377, -0.00392385246232152, -0.0003910486993845552, -0.007633853703737259, -0.014010518789291382, 0.0585305318236351, -0.03494205325841904, -0.02253866195678711, 0.012008090503513813, 0.019039271399378777, 0.01204049214720726, -0.0054013729095458984, 0.019078154116868973, -0.03968567028641701, -0.007329277228564024, 0.0031915728468447924, -0.03082055039703846, -0.0048537831753492355, -0.023990260437130928, -0.007368159480392933, 0.0004584848356898874, 0.041370563209056854, -0.009901976212859154, 0.021074101328849792, 0.003131629666313529, 0.014230851083993912, -0.0012814895017072558, 0.01735438033938408, -0.022136880084872246, -0.011198046617209911, 0.026906417682766914, 0.05111701041460037, -0.00524584436789155, 0.024547569453716278, -0.017276616767048836, 0.010705539956688881, 0.02916157990694046, 0.0036808394361287355, -0.012254344299435616, -0.02672496810555458, -0.012578361667692661, -0.002226000651717186, 0.013012545183300972, -0.0243142768740654, -0.0024544328916817904, -0.03211662173271179, -0.0029372191056609154, 0.024988234043121338, 0.018080180510878563, 0.008495740592479706, -0.0011729435063898563, 0.021799901500344276, -0.009182658046483994, 0.020348303020000458, -0.005226403009146452, 0.01044632587581873, -0.027373002842068672, -0.013161593116819859, -0.032738734036684036, 0.0008537862449884415, 0.02596028707921505, -0.023277420550584793, 0.008916962891817093, 0.014360458590090275, 0.0050384728237986565, -0.04061884060502052, -0.005650866311043501, -0.007627373095601797, 0.0018971228273585439, -0.010828666388988495, -0.008191163651645184, 0.008132840506732464, -0.006525713484734297, -0.006856211461126804, -0.0030230837874114513, 0.03965974971652031, 0.04173346236348152, -0.010932352393865585, 0.01430861558765173, -0.016084231436252594, 0.010562972165644169, 0.02550666220486164, -0.026802731677889824, 0.024016181007027626, -0.013427287340164185, 0.04365164414048195, -0.00823004636913538, -0.001126771094277501, 0.005832315888255835, 0.020516792312264442, 0.011619269847869873, 0.022590504959225655, 0.030198436230421066, 0.02110002376139164, -0.026802731677889824, -0.012837575748562813, 0.026206539943814278, 0.021346276625990868, -0.020957455039024353, -0.015228825621306896, 0.007322796620428562, 0.015112179331481457, -0.012442274019122124, 0.007646814454346895, 0.021035220474004745, -0.04629562795162201, 0.030405808240175247, 0.007303355727344751, -0.0031332497019320726, 0.0004621300322469324, -0.02916157990694046, -0.03898579254746437, 0.03652326017618179, 0.004228428937494755, 0.0215277262032032, -0.003771564457565546, -0.03247952088713646, 0.009649243205785751, -0.01710812747478485, -0.009850134141743183, 0.016654502600431442, -0.02562330849468708, 0.04010041430592537, -0.00944187119603157, 0.00218387832865119, -0.004617250058799982, -0.012034012004733086, -0.010679618455469608, -0.024703098461031914, 0.0053819315508008, 0.023147813975811005, -0.034864287823438644, -0.01346617005765438, 0.012383950874209404, -0.010919392108917236, -0.013945715501904488, 0.010394482873380184, -0.01578613556921482, -0.047228798270225525, -0.002678005024790764, -0.011729435995221138, 0.0126950079575181, 0.007763460744172335, -0.0034086646046489477, -0.011146203614771366, 0.0041312240064144135, 0.008981767110526562, -0.016408249735832214, -0.019376249983906746, 0.008929924108088017, -0.01166463177651167, -0.013440248556435108, -0.0057480717077851295, 0.009195618331432343, 0.010789784602820873, -0.002984201768413186, 0.005064394325017929, 0.02496231347322464, 0.025325212627649307, -0.01043336559087038, 0.03603075072169304, -0.01757471263408661, 0.026362068951129913, -0.016395287588238716, -0.013764265924692154, -0.014606711454689503, -0.018157944083213806, 0.025493701919913292, -0.019078154116868973, -0.024793824180960655, -0.014360458590090275, 0.00806803721934557, 0.009422430768609047, -0.040903978049755096, 0.008495740592479706, 0.011800719425082207, 0.018844861537218094, 0.00018347494187764823, -0.0021498564165085554, -0.010614815168082714, 0.002856214763596654, 0.03323123976588249, -0.011360055766999722, 0.017535829916596413, -0.043340589851140976, 0.008878081105649471, -0.010601854883134365, -0.0071024647913873196, -0.020724162459373474, 0.0038655295502394438, 0.01744510605931282, -0.009798291139304638, 0.011800719425082207, 0.001109760138206184, 0.00015826232265681028, -0.005842036567628384, -0.016174957156181335, -0.011366535909473896, 0.003499389626085758, -0.010796264745295048, -0.01148966234177351, 0.005514778662472963, 0.004277031868696213, 0.004746857099235058, -0.00576751260086894, 0.005427293945103884, 0.003927092999219894, -0.006921015214174986, 0.001481570303440094, -0.012636684812605381, -0.016835952177643776, -0.006862692069262266, 0.03603075072169304, 0.02384769171476364, -0.010122308507561684, -0.021411079913377762, -0.008489260450005531, -0.04056699946522713, -0.01679706946015358, -0.015850938856601715, 0.02133331634104252, 0.01888374239206314, 0.0033130794763565063, 0.00294207944534719, 0.03919316455721855, 0.0005038473173044622, 0.021255552768707275, -0.0375601164996624, 0.01170999463647604, 0.0121571384370327, -0.023355185985565186, 0.01866341196000576, 0.02233128994703293, -0.0013730244245380163, 0.011820160783827305, 0.020413106307387352, -0.0009777229279279709, 0.01953177899122238, 0.0029647606424987316, -0.002791411243379116, -0.017198851332068443, -0.004166865721344948, 0.006525713484734297, 0.01110084168612957, -0.0016152275493368506, -0.016187917441129684, -0.03776748478412628, 0.006081809755414724, -0.0014232471585273743, -0.02078896574676037, -0.0281506460160017, 0.007556089665740728, 0.014710397459566593, -0.008981767110526562, -0.00392385246232152, -0.0042640711180865765, 0.0022454417776316404, 0.005031992681324482, -0.016589699313044548, 0.020037245005369186, -0.004798700101673603, 0.015500999987125397, 0.0012903999304398894, 0.02397730015218258, -0.0011016597272828221, -0.014956650324165821, 0.014243812300264835, -0.013019025325775146, -0.016719305887818336, 0.002358847763389349, 0.0055277394130826, 0.01005750522017479, -0.015384353697299957, 0.007789382245391607, -0.0036808394361287355, -0.0008707972010597587, -0.009642762131989002, -0.019583621993660927, -0.012740370817482471, 0.00028189527802169323, -0.0001855000591604039, -0.021942468360066414, 0.0035739135928452015, -0.00982421264052391, -0.012403392232954502, -0.014567829668521881, -0.02719155326485634, -0.0027865509036928415, -0.021255552768707275, -0.04209636151790619, 0.013919794000685215, -0.004688533954322338, 0.0013981357915326953, -0.008469819091260433, -0.020270537585020065, -0.017393263056874275, 0.0032628567423671484, 0.22727887332439423, 0.001796677359379828, -0.013958676718175411, 0.017950572073459625, 0.023679202422499657, 0.015164021402597427, 0.03431994095444679, -0.012234902940690517, -0.007452403660863638, 0.016330484300851822, -0.0027784504927694798, 0.0030587257351726294, -0.01038800273090601, 0.0029436994809657335, -0.020737124606966972, -0.03027619980275631, -0.009351146407425404, -0.0032369354739785194, -0.02750261127948761, 0.002619681879878044, 0.011198046617209911, 0.01591574214398861, -0.011048998683691025, -0.016706345602869987, 0.013129191473126411, 0.0056055039167404175, -0.005132438149303198, -0.003658158238977194, 0.01600646786391735, 0.018300510942935944, 0.007303355727344751, -0.008411495946347713, -0.01286997739225626, 0.009163216687738895, -0.011353575624525547, 0.0008456858340650797, 0.03281649947166443, -0.037171293050050735, 0.02892828732728958, 0.01309030968695879, 0.01810610108077526, 0.007452403660863638, -0.007355198729783297, -0.016550816595554352, 0.006315102335065603, 0.034734681248664856, -0.012221942655742168, -0.022810835391283035, -0.023821771144866943, -0.004170105792582035, -0.0353308729827404, 0.012688527815043926, 0.044455207884311676, -0.020400146022439003, -0.0027006864547729492, 0.004260831046849489, 0.02463829517364502, 0.009590920060873032, 0.009526115842163563, 0.008651268668472767, -0.03170187771320343, 0.018365316092967987, 0.010517610237002373, 0.006415547803044319, -0.009785329923033714, -0.001009314670227468, -0.02078896574676037, 0.0035091100726276636, 0.014140126295387745, -0.010323199443519115, 0.003771564457565546, -0.01143133919686079, 0.008528142236173153, 0.010912911035120487, -0.014632632955908775, -0.00734223797917366, 0.003661398310214281, 0.02973185107111931, 0.010316719301044941, 0.02573995478451252, -0.017276616767048836, -0.005660586524754763, -0.02882460132241249, -0.011139723472297192, -0.011152684688568115, -0.03844144195318222, 0.02055567316710949, -0.010478727519512177, 0.0025208566803485155, -0.007569049950689077, -0.011807199567556381, 0.010686099529266357, -0.022279446944594383, -0.02439204230904579, 0.005294446833431721, -0.007225591689348221, 0.003055485663935542, 0.0024398521054536104, 0.00994085893034935, -0.004788979422301054, -0.014645593240857124, 0.04175938293337822, 0.0041636256501078606, 0.011036038398742676, 0.026323186233639717, -0.03548640385270119, -0.02155364863574505, 0.026258382946252823, 0.017095167189836502, -0.05223163217306137, 0.0029372191056609154, -0.024132827296853065, 0.023160774260759354, -0.008573504164814949, 0.001095179351978004, -0.0029112978372722864, -0.008463338948786259, 0.014179008081555367, 0.020063167437911034, 0.0006869172211736441, -0.0060526481829583645, -0.026543518528342247, 0.004646411631256342, -0.0039594946429133415, 0.008417976088821888, -0.01529362890869379, -0.024573491886258125, -0.024340199306607246, 0.0034734681248664856, -0.010303758084774017, 0.04139648377895355, -0.009091932326555252, 0.02561034820973873, -0.008392054587602615, 0.012358029372990131, -0.0027039265260100365, 0.01469743624329567, 0.008184683509171009, -0.00690805446356535, -0.005618464667350054, -0.022564582526683807, 0.005122717469930649, -0.014671514742076397, 0.004293232690542936, -0.005887398961931467, -0.011165644973516464, 0.015993507578969002, -0.015034414827823639, -0.027476688846945763, -0.008631827309727669, -0.01911703683435917, -0.03170187771320343, 0.026647204533219337, -0.04925066977739334, 0.02252569980919361, 0.006921015214174986, -0.02638798952102661, -0.0320129357278347, 0.012682047672569752, -0.006940456107258797, -0.012954222038388252, 0.0006614008452743292, 0.001127581112086773, -0.004260831046849489, 0.002418791176751256, 0.0035188307520002127, -0.16413433849811554, 0.0165767390280962, 0.00922801997512579, 0.0007440253393724561, 0.029757773503661156, -0.005530979949980974, 0.041240956634283066, 0.00398217560723424, -0.024327239021658897, 0.0063799056224524975, 0.005505058448761702, -0.020905612036585808, 0.008178203366696835, -0.005722150206565857, -0.017263654619455338, 0.036834314465522766, -0.013984598219394684, 0.011820160783827305, 0.004494123626500368, 0.018533803522586823, 0.004361276514828205, -0.011891444213688374, 0.01800241507589817, -0.020633438602089882, -0.004808420781046152, 0.03546048328280449, -0.005472656339406967, 0.022797875106334686, -0.002726607723161578, -0.011211007833480835, -0.018144983798265457, 0.0051583596505224705, 0.007057102397084236, 0.011347094550728798, -0.00899472739547491, 0.014541908167302608, -0.015993507578969002, -0.02287564054131508, 0.024780862033367157, 0.011366535909473896, 0.019168877974152565, 0.019933560863137245, 0.0037035206332802773, -0.0025856602005660534, -0.0431072972714901, 0.010815706104040146, 0.013725384138524532, -0.011398937553167343, 0.004983390215784311, -0.014528946951031685, 0.03719721734523773, -0.009364107623696327, -0.004238149616867304, -0.002566219074651599, 0.006230857688933611, 0.005582822486758232, -0.008165242150425911, -0.012584841810166836, -0.003499389626085758, -0.007931949570775032, -0.01879301853477955, 0.0013406226644292474, 0.014347497373819351, 0.014451183378696442, -0.004899145569652319, -0.023938417434692383, -0.009085452184081078, -0.003768324153497815, -0.01669338531792164, -0.0019586861599236727, 0.010096387006342411, -0.0281506460160017, 0.008048595860600471, -5.06530559505336e-05, 0.0011802338995039463, 0.002148236380890012, 0.010245434939861298, 0.02185174450278282, 0.00765329459682107, 0.01845603995025158, -0.0039497739635407925, 0.013505051843822002, 0.0018728214781731367, 0.003599835094064474, -0.014269732870161533, 0.03139081969857216, -0.010828666388988495, -0.012332107871770859, 0.02142404019832611, -0.007582010701298714, 0.019285524263978004, -0.030405808240175247, -0.0176654364913702, 0.0005058724200353026, 0.020737124606966972, 0.023238539695739746, -0.012623724527657032, -0.02518264390528202, 0.020076127722859383, -0.0032061536330729723, 0.00367111898958683, 0.015721332281827927, -0.018870782107114792, 0.010070465505123138, 0.008029155433177948, 0.0015739152440801263, -0.0025791798252612352, 0.005437014624476433, 0.01011582836508751, -0.020451989024877548, -0.012066413648426533, 0.005122717469930649, -0.0012029152130708098, 0.021462922915816307, -0.0012264064280316234, 0.013906833715736866, -0.004876464139670134, -0.01192384585738182, -0.01192384585738182, 0.00883919931948185, 0.046010494232177734, -0.015773175284266472, -0.039944883435964584, 0.01923368312418461, -0.0017189132049679756, 3.54710618921672e-06, -0.09072491526603699, -0.019194800406694412, -0.002294044243171811, 0.03846736624836922, 0.023666242137551308, 0.012720929458737373, -0.0045297653414309025, 0.016161995008587837, -0.005971643608063459, 0.04393678158521652, -0.01945401355624199, -0.04002264887094498, -0.03017251566052437, 0.00950667541474104, 0.006243818439543247, -0.02916157990694046, 0.019855795428156853, -0.025467779487371445, -0.029654087498784065, 0.03292018547654152, 0.004588088486343622, -0.023368146270513535, -0.004879704210907221, -0.015202904120087624, -0.00438719755038619, 0.004374237265437841, -0.02286267839372158, 0.020568635314702988, -0.0020413105376064777, 0.009163216687738895, -0.0006719314260408282, -0.009493714198470116, 0.0001155325080617331, -0.02130739390850067, -0.0004054269811604172, -0.01055001188069582, -0.016498973593115807, -0.004289992619305849, 0.022396093234419823, -0.021722137928009033, -0.001334952306933701, 0.005845276638865471, 0.0033730228897184134, -0.036056675016880035, 0.0215277262032032, -0.012785732746124268, -0.022681228816509247, -0.0038493284955620766, -0.00441635912284255, -0.01691371574997902, -0.020698241889476776, -0.002533817198127508, -0.050987403839826584, -0.009351146407425404, 0.025688111782073975, -0.014619672670960426, -0.021398119628429413, 0.0014945309376344085, 0.00950667541474104, -0.01248115673661232, 0.014023480005562305, 0.00395301403477788, -0.02430131658911705, 0.01923368312418461, 0.01690075546503067, -0.010245434939861298, -0.012494117021560669, -0.013505051843822002, 0.0009979740716516972, 0.005074115004390478, -0.0019748869817703962, 0.029887380078434944, -0.014295654371380806, 0.0017221532762050629, -0.03050949238240719, 0.007394080515950918, -0.023484792560338974, -0.019259603694081306, 0.003089507343247533, 0.01259132195264101, -0.020620478317141533, -0.024897508323192596, -0.010018622502684593, 0.0001660590060055256, -0.029031973332166672, 0.016213838011026382, 0.018274590373039246, -0.0030360445380210876, -0.0028400139417499304, 0.0020704721100628376, -0.002515996340662241, 0.025921404361724854, 0.026154696941375732, -0.0020056685898452997, -0.011522063985466957, 0.00822356529533863, 0.010802745819091797, -0.009947339072823524, 0.016641542315483093, -0.004507084377110004, -0.022175760939717293, 0.0031057083979249, -0.04160385578870773, 0.02472902089357376, 0.005070874933153391, -0.005897119641304016, 0.0009736727806739509, 0.0032563763670623302, 0.010601854883134365, -0.015708371996879578, 0.0005394892068579793, 0.011178606189787388, -0.04359980300068855, -0.001006074482575059, -0.02419763058423996, -0.004247870296239853, -0.01480112224817276, -0.02926526591181755, 0.012299706228077412, 0.0011316313175484538, 0.016382327303290367, 0.01986875757575035, -0.008541102521121502, -0.013453208841383457, 0.030639100819826126, 0.006642359774559736, -0.009020648896694183, 0.022240566089749336, -0.010653696954250336, 0.02619357965886593, -0.020179813727736473, -0.004004857037216425, 0.018170904368162155, -0.021035220474004745, 0.0032628567423671484, 0.03610851615667343, -0.012072893790900707, -0.013310641050338745, 0.016045348718762398, 0.029887380078434944, 0.025351133197546005, 0.0072126309387385845, -0.013284719549119473, -0.0038104464765638113, 0.0026909657754004, -0.02474198117852211, 8.940859697759151e-05, -0.009642762131989002, -0.004150664899498224, 0.0042867520824074745, 0.005103276576846838, -0.02739892527461052, 0.003330900566652417, 0.001864721067249775, -0.010796264745295048, 0.007802342996001244, 0.0068756528198719025, 0.013161593116819859, -0.005313888192176819, -0.024456845596432686, 0.015539881773293018, -0.01835235394537449, 0.02750261127948761, 0.0021304155234247446, 0.006862692069262266, -0.015993507578969002, 0.023510713130235672, -0.01165167149156332, -0.01568244956433773, 0.015604685992002487, -0.007309836335480213, -0.03444954752922058, -0.01507329661399126, 0.008508700877428055, 0.004691774025559425, 0.023938417434692383, 0.0056897480972111225, -0.002305384958162904, 0.004925067070871592, -0.012545960023999214, -0.007303355727344751, 0.017872808501124382, 0.025364095345139503, 0.013880912214517593, -0.009850134141743183, 0.017859848216176033, 0.013686501421034336, 0.007290394976735115, -0.005511538591235876, 0.003872009925544262, -0.0033471013884991407, 0.012844055891036987, 0.011820160783827305, 0.007646814454346895, -0.024819744750857353, -0.024897508323192596, 0.012027531862258911, 0.008301329798996449, -0.0017594153760001063, -0.004277031868696213, -0.01954473927617073, 0.00922801997512579, 0.04650299996137619, -0.011243409477174282, 0.00034912890987470746, -0.020516792312264442, 0.0016298083355650306, 0.017393263056874275, -0.01270796824246645, -0.028539465740323067, 0.00295666023157537, 0.03387927636504173, 0.002072092378512025, 0.008599425666034222, 0.001466989517211914, 0.004345075227320194, -0.01297366339713335, -0.003936813212931156, 0.0016038869507610798, -0.019129997119307518, -0.026038050651550293, 0.038493286818265915, -0.00038072062307037413, 0.00019441053154878318, 0.018805978819727898, -0.01625272072851658, 0.012053453363478184, 0.02739892527461052, 0.020905612036585808, -0.041914910078048706, 0.021838784217834473, 0.0056767878122627735, -0.003324420191347599, 0.0187800582498312, -0.019363289698958397, -0.035952989012002945, 0.0115933483466506, -0.025208566337823868, -0.009649243205785751, 0.025584425777196884, -0.011560946702957153, 0.07491286098957062, 0.01688779518008232, 0.002924258355051279, -0.004289992619305849, 0.008476299233734608, 0.012072893790900707, -0.004552446771413088, 0.003499389626085758, -0.01769135892391205, -0.03245360031723976, 0.009182658046483994, -0.00796435121446848, -0.016330484300851822, -0.03190924972295761, -0.013213436119258404, -0.00698581850156188, -0.00028473042766563594, 0.03180556371808052, -0.017522869631648064, 0.0040923417545855045, 0.023484792560338974, -0.00610773079097271, 0.018650449812412262, 0.028332095593214035, -0.003460507607087493, 0.011573906987905502, 0.020464949309825897, 0.00698581850156188, -0.004199267365038395, -0.018857821822166443, -0.011625749990344048, -0.0011583627201616764, -0.02970593050122261, -0.006564595736563206, -0.005385171622037888, -0.021449962630867958, 0.0012588081881403923, -0.020296460017561913, 0.011204526759684086, 0.00922801997512579, 0.006577556487172842, 0.01725069433450699, -0.014632632955908775, -0.028876444324851036, -0.044351521879434586, 0.00960388034582138, -0.003131629666313529, 0.0171210877597332, -0.03592706844210625], index=0, object='embedding')], model='text-embedding-ada-002', object='list', usage=Usage(prompt_tokens=12, total_tokens=12))\n"
     ]
    }
   ],
   "source": [
    "\n",
    "print(type(embedres))\n",
    "print(embedres)\n",
    "\n",
    "# retrieve from Pinecone\n",
    "embedding_vector = embedres.data[0].embedding\n",
    "\n",
    "# # get relevant contexts (including the questions)\n",
    "res = index.query(vector=embedding_vector, top_k=3, include_metadata=True,namespace='TechNote')"
   ]
  },
  {
   "cell_type": "code",
   "execution_count": 12,
   "metadata": {},
   "outputs": [
    {
     "name": "stdout",
     "output_type": "stream",
     "text": [
      "{'matches': [{'id': '7f9affbd-d084-44f5-bd96-e4d992980107',\n",
      "              'metadata': {'LOS': 'interpret interest rates as required rates '\n",
      "                                  'of return, discount rates, or opportunity '\n",
      "                                  'costs;\\n'\n",
      "                                  'explain an interest rate as the sum of a '\n",
      "                                  'real risk-free rate and premiums that '\n",
      "                                  'compensate investors for bearing distinct '\n",
      "                                  'types of risk;\\n'\n",
      "                                  'calculate and interpret the effective '\n",
      "                                  'annual rate, given the stated annual '\n",
      "                                  'interest rate and the frequency of '\n",
      "                                  'compounding;\\n'\n",
      "                                  'solve time value of money problems for '\n",
      "                                  'different frequencies of compounding;\\n'\n",
      "                                  'calculate and interpret the future value '\n",
      "                                  '(FV) and present value (PV) of a single sum '\n",
      "                                  'of money, an ordinary annuity, an annuity '\n",
      "                                  'due, a perpetuity (PV only), and a series '\n",
      "                                  'of unequal cash flows;\\n'\n",
      "                                  'demonstrate the use of a time line in '\n",
      "                                  'modeling and solving time value of money '\n",
      "                                  'problems.',\n",
      "                           'Note': 'interpret interest rates as required rates '\n",
      "                                   'of return, discount rates, or opportunity '\n",
      "                                   'costs;\\n'\n",
      "                                   'explain an interest rate as the sum of a '\n",
      "                                   'real risk-free rate and premiums that '\n",
      "                                   'compensate investors for bearing distinct '\n",
      "                                   'types of risk;\\n'\n",
      "                                   'calculate and interpret the effective '\n",
      "                                   'annual rate, given the stated annual '\n",
      "                                   'interest rate and the frequency of '\n",
      "                                   'compounding;\\n'\n",
      "                                   'solve time value of money problems for '\n",
      "                                   'different frequencies of compounding;\\n'\n",
      "                                   'calculate and interpret the future value '\n",
      "                                   '(FV) and present value (PV) of a single '\n",
      "                                   'sum of money, an ordinary annuity, an '\n",
      "                                   'annuity due, a perpetuity (PV only), and a '\n",
      "                                   'series of unequal cash flows;\\n'\n",
      "                                   'demonstrate the use of a time line in '\n",
      "                                   'modeling and solving time value of money '\n",
      "                                   'problems.interpret interest rates as '\n",
      "                                   'required rates of return, discount rates, '\n",
      "                                   'or opportunity costs;\\n'\n",
      "                                   'explain an interest rate as the sum of a '\n",
      "                                   'real risk-free rate and premiums that '\n",
      "                                   'compensate investors for bearing distinct '\n",
      "                                   'types of risk;\\n'\n",
      "                                   'calculate and interpret the effective '\n",
      "                                   'annual rate, given the stated annual '\n",
      "                                   'interest rate and the frequency of '\n",
      "                                   'compounding;\\n'\n",
      "                                   'solve time value of money problems for '\n",
      "                                   'different frequencies of compounding;\\n'\n",
      "                                   'calculate and interpret the future value '\n",
      "                                   '(FV) and present value (PV) of a single '\n",
      "                                   'sum of money, an ordinary annuity, an '\n",
      "                                   'annuity due, a perpetuity (PV only), and a '\n",
      "                                   'series of unequal cash flows;\\n'\n",
      "                                   'demonstrate the use of a time line in '\n",
      "                                   'modeling and solving time value of money '\n",
      "                                   'problems.## Summary of Key Learning '\n",
      "                                   'Outcome\\n'\n",
      "                                   '- **Interpretation of Interest Rates:** \\n'\n",
      "                                   '    Understanding interest rates as '\n",
      "                                   'required rates of return, discount rates, '\n",
      "                                   'or opportunity costs is essential for '\n",
      "                                   'evaluating investments and financial '\n",
      "                                   'decisions.\\n'\n",
      "                                   '- **Calculation of Effective Annual '\n",
      "                                   'Rate:** \\n'\n",
      "                                   '    Being able to calculate and interpret '\n",
      "                                   'the effective annual rate based on the '\n",
      "                                   'stated annual interest rate and '\n",
      "                                   'compounding frequency helps in comparing '\n",
      "                                   'different investment options accurately.\\n'\n",
      "                                   '- **Time Value of Money Calculations:** \\n'\n",
      "                                   '    Mastering the calculation of future '\n",
      "                                   'value (FV) and present value (PV) for '\n",
      "                                   'single sums of money, annuities (ordinary '\n",
      "                                   'and due), perpetuities, and series of '\n",
      "                                   'uneven cash flows is crucial for financial '\n",
      "                                   'analysis and decision-making.\\n'\n",
      "                                   '- **Use of Time Line in Problem '\n",
      "                                   'Solving:** \\n'\n",
      "                                   '    Demonstrating the use of a time line '\n",
      "                                   'to model and solve time value of money '\n",
      "                                   'problems provides a visual representation '\n",
      "                                   'that aids in understanding the timing and '\n",
      "                                   'value of cash flows.',\n",
      "                           'chunk': 5.0,\n",
      "                           'text': 'solve time value of money problems for '\n",
      "                                   'different frequencies of compounding;\\n'\n",
      "                                   'calculate and interpret the future value '\n",
      "                                   '(FV) and present value (PV) of a single '\n",
      "                                   'sum of money, an ordinary annuity, an '\n",
      "                                   'annuity due, a perpetuity (PV only), and a '\n",
      "                                   'series of unequal cash flows;\\n'\n",
      "                                   'demonstrate the use of a time line in '\n",
      "                                   'modeling and solving time value of money '\n",
      "                                   'problems.## Summary of Key Learning '\n",
      "                                   'Outcome\\n'\n",
      "                                   '- **Interpretation of Interest Rates:**',\n",
      "                           'topic': 'Time Value of Money in Finance'},\n",
      "              'score': 0.87788713,\n",
      "              'values': []},\n",
      "             {'id': '658ab183-a53f-4865-b9d2-9f7ade6ba6bf',\n",
      "              'metadata': {'LOS': 'interpret interest rates as required rates '\n",
      "                                  'of return, discount rates, or opportunity '\n",
      "                                  'costs;\\n'\n",
      "                                  'explain an interest rate as the sum of a '\n",
      "                                  'real risk-free rate and premiums that '\n",
      "                                  'compensate investors for bearing distinct '\n",
      "                                  'types of risk;\\n'\n",
      "                                  'calculate and interpret the effective '\n",
      "                                  'annual rate, given the stated annual '\n",
      "                                  'interest rate and the frequency of '\n",
      "                                  'compounding;\\n'\n",
      "                                  'solve time value of money problems for '\n",
      "                                  'different frequencies of compounding;\\n'\n",
      "                                  'calculate and interpret the future value '\n",
      "                                  '(FV) and present value (PV) of a single sum '\n",
      "                                  'of money, an ordinary annuity, an annuity '\n",
      "                                  'due, a perpetuity (PV only), and a series '\n",
      "                                  'of unequal cash flows;\\n'\n",
      "                                  'demonstrate the use of a time line in '\n",
      "                                  'modeling and solving time value of money '\n",
      "                                  'problems.',\n",
      "                           'Note': 'interpret interest rates as required rates '\n",
      "                                   'of return, discount rates, or opportunity '\n",
      "                                   'costs;\\n'\n",
      "                                   'explain an interest rate as the sum of a '\n",
      "                                   'real risk-free rate and premiums that '\n",
      "                                   'compensate investors for bearing distinct '\n",
      "                                   'types of risk;\\n'\n",
      "                                   'calculate and interpret the effective '\n",
      "                                   'annual rate, given the stated annual '\n",
      "                                   'interest rate and the frequency of '\n",
      "                                   'compounding;\\n'\n",
      "                                   'solve time value of money problems for '\n",
      "                                   'different frequencies of compounding;\\n'\n",
      "                                   'calculate and interpret the future value '\n",
      "                                   '(FV) and present value (PV) of a single '\n",
      "                                   'sum of money, an ordinary annuity, an '\n",
      "                                   'annuity due, a perpetuity (PV only), and a '\n",
      "                                   'series of unequal cash flows;\\n'\n",
      "                                   'demonstrate the use of a time line in '\n",
      "                                   'modeling and solving time value of money '\n",
      "                                   'problems.interpret interest rates as '\n",
      "                                   'required rates of return, discount rates, '\n",
      "                                   'or opportunity costs;\\n'\n",
      "                                   'explain an interest rate as the sum of a '\n",
      "                                   'real risk-free rate and premiums that '\n",
      "                                   'compensate investors for bearing distinct '\n",
      "                                   'types of risk;\\n'\n",
      "                                   'calculate and interpret the effective '\n",
      "                                   'annual rate, given the stated annual '\n",
      "                                   'interest rate and the frequency of '\n",
      "                                   'compounding;\\n'\n",
      "                                   'solve time value of money problems for '\n",
      "                                   'different frequencies of compounding;\\n'\n",
      "                                   'calculate and interpret the future value '\n",
      "                                   '(FV) and present value (PV) of a single '\n",
      "                                   'sum of money, an ordinary annuity, an '\n",
      "                                   'annuity due, a perpetuity (PV only), and a '\n",
      "                                   'series of unequal cash flows;\\n'\n",
      "                                   'demonstrate the use of a time line in '\n",
      "                                   'modeling and solving time value of money '\n",
      "                                   'problems.## Summary of Key Learning '\n",
      "                                   'Outcome\\n'\n",
      "                                   '- **Interpretation of Interest Rates:** \\n'\n",
      "                                   '    Understanding interest rates as '\n",
      "                                   'required rates of return, discount rates, '\n",
      "                                   'or opportunity costs is essential for '\n",
      "                                   'evaluating investments and financial '\n",
      "                                   'decisions.\\n'\n",
      "                                   '- **Calculation of Effective Annual '\n",
      "                                   'Rate:** \\n'\n",
      "                                   '    Being able to calculate and interpret '\n",
      "                                   'the effective annual rate based on the '\n",
      "                                   'stated annual interest rate and '\n",
      "                                   'compounding frequency helps in comparing '\n",
      "                                   'different investment options accurately.\\n'\n",
      "                                   '- **Time Value of Money Calculations:** \\n'\n",
      "                                   '    Mastering the calculation of future '\n",
      "                                   'value (FV) and present value (PV) for '\n",
      "                                   'single sums of money, annuities (ordinary '\n",
      "                                   'and due), perpetuities, and series of '\n",
      "                                   'uneven cash flows is crucial for financial '\n",
      "                                   'analysis and decision-making.\\n'\n",
      "                                   '- **Use of Time Line in Problem '\n",
      "                                   'Solving:** \\n'\n",
      "                                   '    Demonstrating the use of a time line '\n",
      "                                   'to model and solve time value of money '\n",
      "                                   'problems provides a visual representation '\n",
      "                                   'that aids in understanding the timing and '\n",
      "                                   'value of cash flows.',\n",
      "                           'chunk': 7.0,\n",
      "                           'text': '- **Time Value of Money Calculations:** \\n'\n",
      "                                   '    Mastering the calculation of future '\n",
      "                                   'value (FV) and present value (PV) for '\n",
      "                                   'single sums of money, annuities (ordinary '\n",
      "                                   'and due), perpetuities, and series of '\n",
      "                                   'uneven cash flows is crucial for financial '\n",
      "                                   'analysis and decision-making.\\n'\n",
      "                                   '- **Use of Time Line in Problem Solving:**',\n",
      "                           'topic': 'Time Value of Money in Finance'},\n",
      "              'score': 0.863862872,\n",
      "              'values': []},\n",
      "             {'id': '610a443c-62f5-4fd7-9d9d-aa183d46f48a',\n",
      "              'metadata': {'LOS': 'interpret interest rates as required rates '\n",
      "                                  'of return, discount rates, or opportunity '\n",
      "                                  'costs;\\n'\n",
      "                                  'explain an interest rate as the sum of a '\n",
      "                                  'real risk-free rate and premiums that '\n",
      "                                  'compensate investors for bearing distinct '\n",
      "                                  'types of risk;\\n'\n",
      "                                  'calculate and interpret the effective '\n",
      "                                  'annual rate, given the stated annual '\n",
      "                                  'interest rate and the frequency of '\n",
      "                                  'compounding;\\n'\n",
      "                                  'solve time value of money problems for '\n",
      "                                  'different frequencies of compounding;\\n'\n",
      "                                  'calculate and interpret the future value '\n",
      "                                  '(FV) and present value (PV) of a single sum '\n",
      "                                  'of money, an ordinary annuity, an annuity '\n",
      "                                  'due, a perpetuity (PV only), and a series '\n",
      "                                  'of unequal cash flows;\\n'\n",
      "                                  'demonstrate the use of a time line in '\n",
      "                                  'modeling and solving time value of money '\n",
      "                                  'problems.',\n",
      "                           'Note': 'interpret interest rates as required rates '\n",
      "                                   'of return, discount rates, or opportunity '\n",
      "                                   'costs;\\n'\n",
      "                                   'explain an interest rate as the sum of a '\n",
      "                                   'real risk-free rate and premiums that '\n",
      "                                   'compensate investors for bearing distinct '\n",
      "                                   'types of risk;\\n'\n",
      "                                   'calculate and interpret the effective '\n",
      "                                   'annual rate, given the stated annual '\n",
      "                                   'interest rate and the frequency of '\n",
      "                                   'compounding;\\n'\n",
      "                                   'solve time value of money problems for '\n",
      "                                   'different frequencies of compounding;\\n'\n",
      "                                   'calculate and interpret the future value '\n",
      "                                   '(FV) and present value (PV) of a single '\n",
      "                                   'sum of money, an ordinary annuity, an '\n",
      "                                   'annuity due, a perpetuity (PV only), and a '\n",
      "                                   'series of unequal cash flows;\\n'\n",
      "                                   'demonstrate the use of a time line in '\n",
      "                                   'modeling and solving time value of money '\n",
      "                                   'problems.interpret interest rates as '\n",
      "                                   'required rates of return, discount rates, '\n",
      "                                   'or opportunity costs;\\n'\n",
      "                                   'explain an interest rate as the sum of a '\n",
      "                                   'real risk-free rate and premiums that '\n",
      "                                   'compensate investors for bearing distinct '\n",
      "                                   'types of risk;\\n'\n",
      "                                   'calculate and interpret the effective '\n",
      "                                   'annual rate, given the stated annual '\n",
      "                                   'interest rate and the frequency of '\n",
      "                                   'compounding;\\n'\n",
      "                                   'solve time value of money problems for '\n",
      "                                   'different frequencies of compounding;\\n'\n",
      "                                   'calculate and interpret the future value '\n",
      "                                   '(FV) and present value (PV) of a single '\n",
      "                                   'sum of money, an ordinary annuity, an '\n",
      "                                   'annuity due, a perpetuity (PV only), and a '\n",
      "                                   'series of unequal cash flows;\\n'\n",
      "                                   'demonstrate the use of a time line in '\n",
      "                                   'modeling and solving time value of money '\n",
      "                                   'problems.## Summary of Key Learning '\n",
      "                                   'Outcome\\n'\n",
      "                                   '- **Interpretation of Interest Rates:** \\n'\n",
      "                                   '    Understanding interest rates as '\n",
      "                                   'required rates of return, discount rates, '\n",
      "                                   'or opportunity costs is essential for '\n",
      "                                   'evaluating investments and financial '\n",
      "                                   'decisions.\\n'\n",
      "                                   '- **Calculation of Effective Annual '\n",
      "                                   'Rate:** \\n'\n",
      "                                   '    Being able to calculate and interpret '\n",
      "                                   'the effective annual rate based on the '\n",
      "                                   'stated annual interest rate and '\n",
      "                                   'compounding frequency helps in comparing '\n",
      "                                   'different investment options accurately.\\n'\n",
      "                                   '- **Time Value of Money Calculations:** \\n'\n",
      "                                   '    Mastering the calculation of future '\n",
      "                                   'value (FV) and present value (PV) for '\n",
      "                                   'single sums of money, annuities (ordinary '\n",
      "                                   'and due), perpetuities, and series of '\n",
      "                                   'uneven cash flows is crucial for financial '\n",
      "                                   'analysis and decision-making.\\n'\n",
      "                                   '- **Use of Time Line in Problem '\n",
      "                                   'Solving:** \\n'\n",
      "                                   '    Demonstrating the use of a time line '\n",
      "                                   'to model and solve time value of money '\n",
      "                                   'problems provides a visual representation '\n",
      "                                   'that aids in understanding the timing and '\n",
      "                                   'value of cash flows.',\n",
      "                           'chunk': 1.0,\n",
      "                           'text': 'solve time value of money problems for '\n",
      "                                   'different frequencies of compounding;\\n'\n",
      "                                   'calculate and interpret the future value '\n",
      "                                   '(FV) and present value (PV) of a single '\n",
      "                                   'sum of money, an ordinary annuity, an '\n",
      "                                   'annuity due, a perpetuity (PV only), and a '\n",
      "                                   'series of unequal cash flows;\\n'\n",
      "                                   'demonstrate the use of a time line in '\n",
      "                                   'modeling and solving time value of money '\n",
      "                                   'problems.interpret interest rates as '\n",
      "                                   'required rates of return, discount rates, '\n",
      "                                   'or opportunity costs;',\n",
      "                           'topic': 'Time Value of Money in Finance'},\n",
      "              'score': 0.86371249,\n",
      "              'values': []}],\n",
      " 'namespace': 'TechNote',\n",
      " 'usage': {'read_units': 6}}\n"
     ]
    }
   ],
   "source": [
    "print(res)"
   ]
  },
  {
   "cell_type": "markdown",
   "metadata": {},
   "source": [
    "## Ask a question base on the tech note"
   ]
  },
  {
   "cell_type": "code",
   "execution_count": 65,
   "metadata": {},
   "outputs": [],
   "source": [
    "def extract_metadata(response):\n",
    "    # Initialize a list to store all extracted metadata as dictionaries\n",
    "    extracted_data = []\n",
    "\n",
    "    # Check if the response contains any matches\n",
    "    if response and response.get('matches'):\n",
    "        # Iterate over each match found in the response\n",
    "        for match in response['matches']:\n",
    "            # Retrieve the metadata dictionary from the current match\n",
    "            metadata = match.get('metadata', {})\n",
    "\n",
    "            # Extract the LOS, Note, and text from the metadata\n",
    "            # Provide default values if any key is not found\n",
    "            los = metadata.get('LOS', 'No LOS provided')\n",
    "            note = metadata.get('Note', 'No Note provided')\n",
    "            text = metadata.get('text', 'No text provided')\n",
    "\n",
    "            # Create a dictionary with the extracted data\n",
    "            data_dict = {\n",
    "                'LOS': los,\n",
    "                'Note': note,\n",
    "                'Text': text\n",
    "            }\n",
    "\n",
    "            # Add the dictionary to the list of extracted data\n",
    "            extracted_data.append(data_dict)\n",
    "    else:\n",
    "        print(\"No matches found in the response.\")\n",
    "\n",
    "    # Return the list containing dictionaries of the extracted data\n",
    "    return extracted_data\n",
    "\n"
   ]
  },
  {
   "cell_type": "code",
   "execution_count": 64,
   "metadata": {},
   "outputs": [],
   "source": [
    "# Call the function and print the results\n",
    "extracted_metadata = extract_metadata(res)\n",
    "# for item in extracted_metadata:\n",
    "#     print(item['LOS'])\n"
   ]
  },
  {
   "cell_type": "code",
   "execution_count": 74,
   "metadata": {},
   "outputs": [],
   "source": [
    "def ask_question(notedata, question):\n",
    "\n",
    "    client = OpenAI()\n",
    "    response = client.chat.completions.create(\n",
    "    model=\"gpt-3.5-turbo-0125\",\n",
    "    messages=[\n",
    "            {\"role\": \"system\", \"content\": f\"Use the background knowledge here: {notedata}\"},\n",
    "            {\"role\": \"user\", \"content\": f\"Answer the question base on the system content I provide: {question}\"}\n",
    "        ]\n",
    "    )\n",
    "    # print(response.choices[0].message.content)\n",
    "    return response"
   ]
  },
  {
   "cell_type": "code",
   "execution_count": 82,
   "metadata": {},
   "outputs": [],
   "source": [
    "notedata = ''\n",
    "for data in extracted_metadata:\n",
    "    note = data['Note']\n",
    "    notedata += note\n",
    "\n",
    "\n",
    "question = 'Tell me what is Time Value of Money in Finance'\n",
    "\n",
    "response = ask_question(notedata,question)"
   ]
  },
  {
   "cell_type": "code",
   "execution_count": 83,
   "metadata": {},
   "outputs": [
    {
     "name": "stdout",
     "output_type": "stream",
     "text": [
      "Time Value of Money (TVM) is a foundational concept in finance that highlights the idea that a sum of money today is worth more than the same sum in the future due to its potential earning capacity. In essence, the concept of TVM recognizes that a dollar received today can be invested and earn a return, making it worth more than a dollar received in the future.\n",
      "\n",
      "The core principles of Time Value of Money include:\n",
      "\n",
      "1. **Future Value (FV):** The value of an investment at a specified future date based on the assumption of compound interest over that period.\n",
      "   \n",
      "2. **Present Value (PV):** The current value of a future sum of money, considering a specified rate of return or discount rate. PV is crucial for determining the fair value of an investment given its potential returns.\n",
      "\n",
      "3. **Compounding:** The process by which interest is earned on the original amount invested (principal) as well as on any accumulated interest from previous periods.\n",
      "\n",
      "4. **Discounting:** The process of determining the present value of a future sum of money. Discounting helps in assessing the value of future cash flows in today's terms.\n",
      "\n",
      "Understanding TVM is vital for making informed financial decisions, as it helps in evaluating investment opportunities, comparing cash flows at different points in time, and determining the value of money over time. Additionally, TVM calculations serve as the foundation for various financial analyses like net present value (NPV), internal rate of return (IRR), and bond valuation, among others.\n"
     ]
    }
   ],
   "source": [
    "print(response.choices[0].message.content)"
   ]
  }
 ],
 "metadata": {
  "kernelspec": {
   "display_name": ".venv",
   "language": "python",
   "name": "python3"
  },
  "language_info": {
   "codemirror_mode": {
    "name": "ipython",
    "version": 3
   },
   "file_extension": ".py",
   "mimetype": "text/x-python",
   "name": "python",
   "nbconvert_exporter": "python",
   "pygments_lexer": "ipython3",
   "version": "3.11.0"
  }
 },
 "nbformat": 4,
 "nbformat_minor": 2
}
