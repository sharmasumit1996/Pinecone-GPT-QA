{
 "cells": [
  {
   "cell_type": "markdown",
   "id": "dbb4b550",
   "metadata": {},
   "source": [
    "# Snowflake SQL Alchemy\n",
    "\n",
    "### Uploading the web-scaped cleaned data, after using pydantic, 'items.csv' into snowflake using Snowflake-SQLAlchemy into our created db"
   ]
  },
  {
   "cell_type": "code",
   "execution_count": 1,
   "id": "ce5dde18",
   "metadata": {},
   "outputs": [
    {
     "name": "stdout",
     "output_type": "stream",
     "text": [
      "Looking in indexes: https://pypi.tuna.tsinghua.edu.cn/simple\n",
      "Requirement already satisfied: python-dotenv in /Users/ldy/Documents/courses/DAMG7245/HW/Assignment5/Assignment05/.venv/lib/python3.11/site-packages (1.0.1)\n"
     ]
    }
   ],
   "source": [
    "!pip install python-dotenv"
   ]
  },
  {
   "cell_type": "code",
   "execution_count": 2,
   "id": "14715f53",
   "metadata": {},
   "outputs": [
    {
     "name": "stdout",
     "output_type": "stream",
     "text": [
      "Looking in indexes: https://pypi.tuna.tsinghua.edu.cn/simple\n",
      "Requirement already satisfied: bcrypt in /Users/ldy/Documents/courses/DAMG7245/HW/Assignment5/Assignment05/.venv/lib/python3.11/site-packages (4.1.2)\n"
     ]
    }
   ],
   "source": [
    "!pip install bcrypt"
   ]
  },
  {
   "cell_type": "code",
   "execution_count": 3,
   "id": "0ae73b20",
   "metadata": {},
   "outputs": [
    {
     "name": "stdout",
     "output_type": "stream",
     "text": [
      "Looking in indexes: https://pypi.tuna.tsinghua.edu.cn/simple\n",
      "Requirement already satisfied: snowflake-sqlalchemy in /Users/ldy/Documents/courses/DAMG7245/HW/Assignment5/Assignment05/.venv/lib/python3.11/site-packages (1.5.1)\n",
      "Requirement already satisfied: sqlalchemy<2.0.0,>=1.4.0 in /Users/ldy/Documents/courses/DAMG7245/HW/Assignment5/Assignment05/.venv/lib/python3.11/site-packages (from snowflake-sqlalchemy) (1.4.52)\n",
      "Requirement already satisfied: snowflake-connector-python<4.0.0 in /Users/ldy/Documents/courses/DAMG7245/HW/Assignment5/Assignment05/.venv/lib/python3.11/site-packages (from snowflake-sqlalchemy) (3.8.1)\n",
      "Requirement already satisfied: asn1crypto<2.0.0,>0.24.0 in /Users/ldy/Documents/courses/DAMG7245/HW/Assignment5/Assignment05/.venv/lib/python3.11/site-packages (from snowflake-connector-python<4.0.0->snowflake-sqlalchemy) (1.5.1)\n",
      "Requirement already satisfied: cffi<2.0.0,>=1.9 in /Users/ldy/Documents/courses/DAMG7245/HW/Assignment5/Assignment05/.venv/lib/python3.11/site-packages (from snowflake-connector-python<4.0.0->snowflake-sqlalchemy) (1.16.0)\n",
      "Requirement already satisfied: cryptography<43.0.0,>=3.1.0 in /Users/ldy/Documents/courses/DAMG7245/HW/Assignment5/Assignment05/.venv/lib/python3.11/site-packages (from snowflake-connector-python<4.0.0->snowflake-sqlalchemy) (42.0.5)\n",
      "Requirement already satisfied: pyOpenSSL<25.0.0,>=16.2.0 in /Users/ldy/Documents/courses/DAMG7245/HW/Assignment5/Assignment05/.venv/lib/python3.11/site-packages (from snowflake-connector-python<4.0.0->snowflake-sqlalchemy) (24.1.0)\n",
      "Requirement already satisfied: pyjwt<3.0.0 in /Users/ldy/Documents/courses/DAMG7245/HW/Assignment5/Assignment05/.venv/lib/python3.11/site-packages (from snowflake-connector-python<4.0.0->snowflake-sqlalchemy) (2.8.0)\n",
      "Requirement already satisfied: pytz in /Users/ldy/Documents/courses/DAMG7245/HW/Assignment5/Assignment05/.venv/lib/python3.11/site-packages (from snowflake-connector-python<4.0.0->snowflake-sqlalchemy) (2024.1)\n",
      "Requirement already satisfied: requests<3.0.0 in /Users/ldy/Documents/courses/DAMG7245/HW/Assignment5/Assignment05/.venv/lib/python3.11/site-packages (from snowflake-connector-python<4.0.0->snowflake-sqlalchemy) (2.31.0)\n",
      "Requirement already satisfied: packaging in /Users/ldy/Documents/courses/DAMG7245/HW/Assignment5/Assignment05/.venv/lib/python3.11/site-packages (from snowflake-connector-python<4.0.0->snowflake-sqlalchemy) (24.0)\n",
      "Requirement already satisfied: charset-normalizer<4,>=2 in /Users/ldy/Documents/courses/DAMG7245/HW/Assignment5/Assignment05/.venv/lib/python3.11/site-packages (from snowflake-connector-python<4.0.0->snowflake-sqlalchemy) (3.3.2)\n",
      "Requirement already satisfied: idna<4,>=2.5 in /Users/ldy/Documents/courses/DAMG7245/HW/Assignment5/Assignment05/.venv/lib/python3.11/site-packages (from snowflake-connector-python<4.0.0->snowflake-sqlalchemy) (3.7)\n",
      "Requirement already satisfied: certifi>=2017.4.17 in /Users/ldy/Documents/courses/DAMG7245/HW/Assignment5/Assignment05/.venv/lib/python3.11/site-packages (from snowflake-connector-python<4.0.0->snowflake-sqlalchemy) (2024.2.2)\n",
      "Requirement already satisfied: typing-extensions<5,>=4.3 in /Users/ldy/Documents/courses/DAMG7245/HW/Assignment5/Assignment05/.venv/lib/python3.11/site-packages (from snowflake-connector-python<4.0.0->snowflake-sqlalchemy) (4.11.0)\n",
      "Requirement already satisfied: filelock<4,>=3.5 in /Users/ldy/Documents/courses/DAMG7245/HW/Assignment5/Assignment05/.venv/lib/python3.11/site-packages (from snowflake-connector-python<4.0.0->snowflake-sqlalchemy) (3.13.4)\n",
      "Requirement already satisfied: sortedcontainers>=2.4.0 in /Users/ldy/Documents/courses/DAMG7245/HW/Assignment5/Assignment05/.venv/lib/python3.11/site-packages (from snowflake-connector-python<4.0.0->snowflake-sqlalchemy) (2.4.0)\n",
      "Requirement already satisfied: platformdirs<5.0.0,>=2.6.0 in /Users/ldy/Documents/courses/DAMG7245/HW/Assignment5/Assignment05/.venv/lib/python3.11/site-packages (from snowflake-connector-python<4.0.0->snowflake-sqlalchemy) (4.2.0)\n",
      "Requirement already satisfied: tomlkit in /Users/ldy/Documents/courses/DAMG7245/HW/Assignment5/Assignment05/.venv/lib/python3.11/site-packages (from snowflake-connector-python<4.0.0->snowflake-sqlalchemy) (0.12.4)\n",
      "Requirement already satisfied: pycparser in /Users/ldy/Documents/courses/DAMG7245/HW/Assignment5/Assignment05/.venv/lib/python3.11/site-packages (from cffi<2.0.0,>=1.9->snowflake-connector-python<4.0.0->snowflake-sqlalchemy) (2.22)\n",
      "Requirement already satisfied: urllib3<3,>=1.21.1 in /Users/ldy/Documents/courses/DAMG7245/HW/Assignment5/Assignment05/.venv/lib/python3.11/site-packages (from requests<3.0.0->snowflake-connector-python<4.0.0->snowflake-sqlalchemy) (2.2.1)\n"
     ]
    }
   ],
   "source": [
    "!pip install snowflake-sqlalchemy"
   ]
  },
  {
   "cell_type": "code",
   "execution_count": 1,
   "id": "bdc18663",
   "metadata": {},
   "outputs": [],
   "source": [
    "#!/usr/bin/env python\n",
    "import warnings\n",
    "warnings.filterwarnings(\"ignore\")\n",
    "from dotenv import load_dotenv\n",
    "from sqlalchemy import create_engine\n",
    "import bcrypt\n",
    "import os"
   ]
  },
  {
   "cell_type": "markdown",
   "id": "5d9e7725",
   "metadata": {},
   "source": [
    "### Snowflake Testing environment setup & data upload"
   ]
  },
  {
   "cell_type": "code",
   "execution_count": 2,
   "id": "bf3a3b6d",
   "metadata": {},
   "outputs": [],
   "source": [
    "create_test_stage = \"\"\"CREATE STAGE TEST_URL_STAGING DIRECTORY = ( ENABLE = true );\"\"\"\n",
    "drop_test_stage = \"\"\"DROP STAGE if exists TEST_URL_STAGING;\"\"\""
   ]
  },
  {
   "cell_type": "code",
   "execution_count": 19,
   "id": "8651ae59",
   "metadata": {},
   "outputs": [],
   "source": [
    "create_test_table = \"\"\"CREATE OR REPLACE TABLE test_cfa_courses (\n",
    "        NameOfTopic STRING,\n",
    "        Title STRING,\n",
    "        Year STRING,\n",
    "        Level STRING,\n",
    "        Introduction STRING,\n",
    "        LearningOutcome STRING,\n",
    "        LinkToPDF STRING,\n",
    "        Summary STRING\n",
    "        );\"\"\""
   ]
  },
  {
   "cell_type": "code",
   "execution_count": 4,
   "id": "1405141b",
   "metadata": {},
   "outputs": [
    {
     "name": "stdout",
     "output_type": "stream",
     "text": [
      "True\n",
      "../data/cfa_data.csv\n"
     ]
    }
   ],
   "source": [
    "import os\n",
    "data_file_path = os.path.join('..', 'data', 'cfa_data.csv')\n",
    "print(os.path.exists(data_file_path))\n",
    "print(data_file_path)"
   ]
  },
  {
   "cell_type": "code",
   "execution_count": 5,
   "id": "a35fcbd2",
   "metadata": {},
   "outputs": [],
   "source": [
    "upload_to_test_stage = f\"\"\"PUT file://{data_file_path} @PC_DBT_DB.public.TEST_URL_STAGING;\"\"\""
   ]
  },
  {
   "cell_type": "code",
   "execution_count": 23,
   "id": "b1d321b9",
   "metadata": {},
   "outputs": [],
   "source": [
    "copy_stage_to_test_table = \"\"\"COPY INTO test_cfa_courses\n",
    "  FROM @PC_DBT_DB.public.TEST_URL_STAGING\n",
    "  FILE_FORMAT = (type = csv field_optionally_enclosed_by='\"' )\n",
    "  PATTERN = 'pdf_data.csv.gz'\n",
    "  ON_ERROR = 'CONTINUE';\"\"\""
   ]
  },
  {
   "cell_type": "markdown",
   "id": "ec5f787e",
   "metadata": {},
   "source": [
    "### Snowflake Production Environment setup & data upload"
   ]
  },
  {
   "cell_type": "code",
   "execution_count": 7,
   "id": "31c8af41",
   "metadata": {},
   "outputs": [],
   "source": [
    "create_prod_stage = \"\"\"CREATE STAGE URL_STAGING DIRECTORY = ( ENABLE = true );\"\"\"\n",
    "drop_prod_stage = \"\"\"DROP STAGE if exists URL_STAGING;\"\"\""
   ]
  },
  {
   "cell_type": "code",
   "execution_count": 18,
   "id": "dd550ea0",
   "metadata": {},
   "outputs": [],
   "source": [
    "create_prod_table_query = \"\"\"CREATE OR REPLACE TABLE cfa_courses (\n",
    "        NameOfTopic STRING,\n",
    "        Title STRING,\n",
    "        Year STRING,\n",
    "        Level STRING,\n",
    "        Introduction STRING,\n",
    "        LearningOutcome STRING,\n",
    "        LinkToPDF STRING,\n",
    "        Summary STRING\n",
    "        );\"\"\""
   ]
  },
  {
   "cell_type": "code",
   "execution_count": 9,
   "id": "ce01ef00",
   "metadata": {},
   "outputs": [],
   "source": [
    "upload_to_prod_stage = f\"\"\"PUT file://{data_file_path} @PC_DBT_DB.public.URL_STAGING;\"\"\""
   ]
  },
  {
   "cell_type": "code",
   "execution_count": 22,
   "id": "49c93f28",
   "metadata": {},
   "outputs": [],
   "source": [
    "copy_stage_to_prod_table = \"\"\"COPY INTO cfa_courses\n",
    "  FROM @PC_DBT_DB.public.URL_STAGING\n",
    "  FILE_FORMAT = (type = csv field_optionally_enclosed_by='\"' )\n",
    "  PATTERN = 'pdf_data.csv.gz'\n",
    "  ON_ERROR = 'skip_file';\"\"\""
   ]
  },
  {
   "cell_type": "code",
   "execution_count": 26,
   "id": "cc31b0b6",
   "metadata": {},
   "outputs": [
    {
     "name": "stdout",
     "output_type": "stream",
     "text": [
      "1\n",
      "2\n",
      "3\n",
      "Done\n"
     ]
    }
   ],
   "source": [
    "load_dotenv()\n",
    "\n",
    "u=os.getenv(\"SNOWFLAKE_USER\")\n",
    "p=os.getenv(\"SNOWFLAKE_PASS\")\n",
    "ai=os.getenv(\"SNOWFLAKE_ACCOUNTID\")\n",
    "\n",
    "\n",
    "engine = create_engine(\n",
    "    'snowflake://{user}:{password}@{account_identifier}/'.format(\n",
    "        user=u,\n",
    "        password=p,\n",
    "        account_identifier=ai,\n",
    "    )\n",
    ")\n",
    "\n",
    "\n",
    "\n",
    "try:\n",
    "    connection = engine.connect()\n",
    "    connection.execute(\"USE DATABASE PC_DBT_DB\")\n",
    "    connection.execute(\"USE WAREHOUSE COMPUTE_WH\")\n",
    "    print('1')\n",
    "    results = connection.execute(create_test_stage) \n",
    "    results = connection.execute(create_test_table)\n",
    "    results = connection.execute(upload_to_test_stage)\n",
    "    results = connection.execute(copy_stage_to_test_table)\n",
    "    #results = connection.execute(drop_test_stage)\n",
    "    print('2')\n",
    "    results = connection.execute(create_prod_stage) \n",
    "    results = connection.execute(create_prod_table_query)\n",
    "    results = connection.execute(upload_to_prod_stage)\n",
    "    results = connection.execute(copy_stage_to_prod_table)\n",
    "    #results = connection.execute(drop_prod_stage)\n",
    "    print('3')\n",
    "finally:\n",
    "    print(\"Done\")\n",
    "    connection.close()\n",
    "    engine.dispose()"
   ]
  },
  {
   "cell_type": "code",
   "execution_count": 51,
   "id": "9f82af88",
   "metadata": {},
   "outputs": [
    {
     "name": "stdout",
     "output_type": "stream",
     "text": [
      "Done\n"
     ]
    }
   ],
   "source": [
    "# engine = create_engine(\n",
    "#     'snowflake://{user}:{password}@{account_identifier}/'.format(\n",
    "#         user=u,\n",
    "#         password=p,\n",
    "#         account_identifier=ai,\n",
    "#     )\n",
    "# )\n",
    "# try:\n",
    "#     connection = engine.connect()\n",
    "#     connection.execute(\"USE DATABASE PC_DBT_DB\")\n",
    "#     connection.execute(\"USE WAREHOUSE COMPUTE_WH\")\n",
    "#     results = connection.execute(drop_test_stage)\n",
    "#     results = connection.execute(drop_prod_stage)\n",
    "# except NameError as e:\n",
    "#     print(e)\n",
    "# finally:\n",
    "#     print(\"Done\")\n",
    "#     connection.close()\n",
    "#     engine.dispose()"
   ]
  }
 ],
 "metadata": {
  "kernelspec": {
   "display_name": "Python 3 (ipykernel)",
   "language": "python",
   "name": "python3"
  },
  "language_info": {
   "codemirror_mode": {
    "name": "ipython",
    "version": 3
   },
   "file_extension": ".py",
   "mimetype": "text/x-python",
   "name": "python",
   "nbconvert_exporter": "python",
   "pygments_lexer": "ipython3",
   "version": "3.11.0"
  }
 },
 "nbformat": 4,
 "nbformat_minor": 5
}
